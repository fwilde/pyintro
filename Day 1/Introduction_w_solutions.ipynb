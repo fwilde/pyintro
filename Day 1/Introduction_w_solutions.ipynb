{
 "cells": [
  {
   "cell_type": "markdown",
   "metadata": {},
   "source": [
    "<font size=\"3\">\n",
    "\n",
    "# Introduction to Python\n",
    "<br>\n",
    "<center>\n",
    "<img src=\"img/meme_python_xkcd353.png\" width=\"66%\">\n",
    "</center>\n",
    "<br>\n",
    "<font size=\"2\"><i>Source: <a href=\"https://xkcd.com/353/\">https://xkcd.com/353/</a></i></font>\n",
    "<br>\n",
    "\n",
    "Python became one of the most popular and versatile programming languages in various scientific disciplines for data analysis and visualization. It is also one of the most demanded programming languages outside academia in particular for machine learning applications and business data analytics. Therefore it will be an invaluable skill once you've mastered this and other more advances courses in Python.\n",
    "\n",
    "**Python is not translated to machine language before execution.** <br>\n",
    "In contrast to other popular programming languages like e.g. C++ or Java, the code is not precompiled which means the code is not translated from a human-readable version of the program to a so-called executable binary file (containing the binary machine language (assembler) version of the program) before it is executed. <br>\n",
    "\n",
    "**Python is an interpreted language.** <br>\n",
    "In simple words, the program is translated on-the-fly line by line while it is executed. Interpreted languages have a slight performance drawback, but this is negligible in most applications. In particular Python had a bad reputation regarding its execution speed in its infancy. But nowadays, its speed is even comparable to C(++) which is achieved by integrated precompiled libraries like numpy.<br>\n",
    "\n",
    "**Python is platform-independent.** <br>\n",
    "Python is available for various platform like Windows, Linux, but also Mac OS X and Android, even within a web browser as you can see here. As mentioned above, some libraries could be precompiled for a specific target platform. Therefore, it depends in the end on the 3rd party dependencies of your code whether it'll run flawlessly under all operating systems.<br>\n",
    "\n",
    "**In this course Python 3 is used.** <br>\n",
    "\n",
    "## Usage modes\n",
    "\n",
    "Python offers different usage modes: interactive and non-interactive.\n",
    "\n",
    "### Interactive\n",
    "\n",
    "The interactive mode is what we'll use in this course: This course uses the popular **Jupyter environment** and **Jupyter Notebooks** offering an interactive environment where we can enter commands and immediately see the results. The temporary results of each command are held in memory till the interactive environment is shut down. \n",
    "\n",
    "**Try it on your own**, e.g. enter `1 + 1` or `print(\"Hello world!\")` in the empty cell below and **press Ctrl + Enter** to execute the content of the currently selected cell:"
   ]
  },
  {
   "cell_type": "code",
   "execution_count": 1,
   "metadata": {},
   "outputs": [
    {
     "data": {
      "text/plain": [
       "2"
      ]
     },
     "execution_count": 1,
     "metadata": {},
     "output_type": "execute_result"
    }
   ],
   "source": [
    "1 + 1"
   ]
  },
  {
   "cell_type": "markdown",
   "metadata": {},
   "source": [
    "<font size=\"3\">You see the result or the output in the cell below.</font>\n",
    "\n",
    "### Useful Keyboard Shortcuts\n",
    "<br>\n",
    "\n",
    "<font size=\"3\">\n",
    "    \n",
    "| Shortcut | Function |\n",
    "| -------- | ----------- |\n",
    "| Esc      | Switch to command mode |\n",
    "| Enter    | Switch to edit mode |\n",
    "| B        | Creates new empty cell **B**elow |\n",
    "| H        | Show **H**elp   |\n",
    "| X        | Deletes currently selected cell|\n",
    "| Shift + Enter | Run cell and advance to next cell |\n",
    "| Ctrl  + Enter | Run cell |\n",
    "| Ctrl  + S     | Save notebook |\n",
    "\n",
    "The frame color of the currently selected cell changes from blue in command mode to green in edit mode.\n",
    "\n",
    "</font>"
   ]
  },
  {
   "cell_type": "markdown",
   "metadata": {},
   "source": [
    "# Non-Interactive\n",
    "<br>\n",
    "<font size=\"3\">\n",
    "The non-interactive mode is probably what you're going to use in most cases in your future coding career:<br>\n",
    "You have a *.py file containing Python code and you run it via the command-line or your integrated development environment (IDE). The latter is a special code editor for software developers with useful functions like autocompletion, highlighting syntax errors, etc.\n",
    "<div class=\"alert alert-info\">\n",
    "Later-on in this course, you're going to learn how to run your Python code using the command-line in a non-interactive way and how you can pass and parse command-line arguments.\n",
    "</div>\n",
    "\n",
    "## JupyterHub\n",
    "\n",
    "JupyterHub is a Jupyter environment running on a remote server of the university (which we're using right now). It is accessible from within the university network or remotely from home via the VPN client. Therefore, a local installation is not necessary.\n",
    "<div class=\"alert alert-warning\" role=\"alert\">\n",
    "    <b>If you're connected to eduroam, you can directly access the JupyterHub via</b>\n",
    "    <a href=\"https://jupyterhub.wolke.uni-greifswald.de/hub/login\">https://jupyterhub.wolke.uni-greifswald.de/hub/login</a> using your personal login credentials from the university data center.\n",
    "</div>\n",
    "\n",
    "Open a terminal and run the following command to clone the course materials to your Jupyter notebook instance:\n",
    "\n",
    "`git clone https://github.com/fwilde-courses/pyintro`\n",
    "\n",
    "## Local Setup\n",
    "\n",
    "In case you prefer to use Jupyter Hub, you can skip the setup section. If you'd like to write and test your code independently from the university infrastructure and start from scratch, install the Jupyter environment locally on your machine, following the instructions below.\n",
    "\n",
    "### Linux\n",
    "\n",
    "The easiest way is to download and install the Anaconda distribution here: <br>\n",
    "https://repo.anaconda.com/archive/Anaconda3-2020.07-Linux-x86_64.sh\n",
    "\n",
    "### Mac OS X\n",
    "\n",
    "The easiest way is to download and install the Anaconda distribution here: <br>\n",
    "https://repo.anaconda.com/archive/Anaconda3-2020.07-MacOSX-x86_64.pkg\n",
    "\n",
    "### Windows\n",
    "\n",
    "The easiest way is to download and install the Anaconda distribution here: <br>\n",
    "https://repo.anaconda.com/archive/Anaconda3-2020.07-Windows-x86_64.exe\n",
    "\n",
    "</font>"
   ]
  },
  {
   "cell_type": "markdown",
   "metadata": {},
   "source": [
    "# Variables and Data Types\n",
    "<br>\n",
    "<font size=\"3\">\n",
    "    \n",
    "**A computer stores all kind of data to be processed within a program in the random-access memory (RAM) in a specific address range.**\n",
    "\n",
    "The smallest data unit is the single bit (0 or 1) of which 8 form one byte e.g. 00101101. Two bytes, hence 16 bits, are called a \"word\". Two \"words\"  In a 32-bit computer system, the memory addresses are 32 bits long and the maximum addressable memory equals to 2^32 bits or around 4 GBytes. The memory address is a long binary number which is often converted to a hexadecimal number (decimal 16 = binary 1000 = hexadecimal F) to offer a shorter notation e.g. 0x1aef3b12 or 1aef:3b12.\n",
    "\n",
    "<div class=\"alert alert-info\">Since it would be very incovenient and error-prone to use memory addresses in computer programs, <b>variable names are introduced as human-readable aliases for the memory addresses.</b></div>\n",
    "\n",
    "**A data type of a variable defines the size of the address block reserved in the RAM. In case of numerical data, the size defines the maximum value range for the data type.**<br>\n",
    "\n",
    "Examples for numerical data types are\n",
    "\n",
    "| Name            | Short Name | Size                      | Value Range                  |\n",
    "| --------------- | ---------- | ------------------------- |------------------------------|\n",
    "| boolean         | bool       | 1 bit                     | 0 (False) or 1 (True)        |\n",
    "| unsigned int    | uint8      | 8 bits                    | 0 to 255 = $2^8$             |\n",
    "| signed int      | int8       | (7 + 1 =) 8 bits          | -127 = $-2^7$ to 127 = $2^7$ |\n",
    "| float or single | float32    | (1 + 8 + 23 =) 32 bits    | $\\sim \\pm 1 \\cdot 10^{-38}$ to $\\pm3 \\cdot 10^{38}$ |\n",
    "| double          | float64    | (1 + 11 + 52 =) 64 bits   | $\\sim \\pm 2 \\cdot 10^{-308}$ to $\\pm 1 \\cdot 10^{308}$ |\n",
    "\n",
    "In most programming languages like C(++) or Java, the data type of the variable is static and has to be defined in advance. **In contrast, Python is much easier and tries to guess the data type of the variable during the runtime at its first appearance. A specific data type can also be explicitly defined or changed (casted) within certain limits later.**\n",
    "\n",
    "**Below you see examples of various variables where different values where assigned:**\n",
    "</font>"
   ]
  },
  {
   "cell_type": "code",
   "execution_count": 71,
   "metadata": {},
   "outputs": [],
   "source": [
    "var1  = False              # Definition of a boolean variable\n",
    "var2  = 4                  # Definition of an integer variable\n",
    "var3  = 123.456            # Definition of floating point number variable\n",
    "var4  = 9.1e-31            # Python supports the scientific notation for floats\n",
    "\n",
    "# Definition of a string with double quotes -> special escape sequences / string literals are replaced\n",
    "# which are characters which are non-visible e.g. \\n (ASCII linefeed) causes a line break in the output\n",
    "var5  = \"Hello world! \\n\"  \n",
    "# Definition of a string with single quotes and preceding r \n",
    "# -> string without handling of escape sequences is used\n",
    "var10 = r'Hello world! \\n'     \n",
    "\n",
    "var6 = var7 = 3.14159      # Multiple Assignments in one line\n",
    "var8, var9 = \"Python\", 4   # Multiple Assignments in one line"
   ]
  },
  {
   "cell_type": "markdown",
   "metadata": {},
   "source": [
    "<div class=\"alert alert-info\"><font size=\"3\"><b>Info:</b> Single-line comments in Python begin mit a hash character \"#\".</font></div>\n",
    "\n",
    "<font size=\"3\">We can see the <b>content</b> and the <b>type</b> of the variables defined above with the functions <i><b>print()</b></i> and <i><b>type()</b></i>.<br> <bR>\n",
    "<b>A function call is performed with <i>function_name</i>(<i>argument(s)</i>)</b>. The type of a Python variable is retrieved with the <i>type()</i> function. <b>The content</b> of a Python variable is printed with the <i>print()</i> function.</font>"
   ]
  },
  {
   "cell_type": "code",
   "execution_count": 70,
   "metadata": {},
   "outputs": [
    {
     "name": "stdout",
     "output_type": "stream",
     "text": [
      "<class 'bool'>\n",
      "False\n",
      "<class 'int'>\n",
      "4\n",
      "<class 'float'>\n",
      "123.456\n",
      "<class 'float'>\n",
      "9.1e-31\n",
      "<class 'str'>\n",
      "Hello world! \n",
      "\n",
      "<class 'str'>\n",
      "Hello world! \\n\n"
     ]
    }
   ],
   "source": [
    "print(type(var1))    # Outputs data type or class of the variable var1\n",
    "print(var1)          # Outputs content of the variable var1\n",
    "print(type(var2))    # Outputs data type or class of the variable var2\n",
    "print(var2)          # Outputs content of the variable var2\n",
    "print(type(var3))    # Outputs data type or class of the variable var3\n",
    "print(var3)          # Outputs content of the variable var3\n",
    "print(type(var4))    # Outputs data type or class of the variable var4\n",
    "print(var4)          # Outputs content of the variable var4\n",
    "\n",
    "print(type(var5))    # Outputs data type or class of the variable var5\n",
    "print(var5)          # Outputs content of the variable var5, the escape sequence \"\\n\" is replaced by line break\n",
    "print(type(var10))    # Outputs data type or class of the variable var10\n",
    "print(var10)          # Outputs content of the variable var10, the escape sequence \"\\n\" is just printed"
   ]
  },
  {
   "cell_type": "markdown",
   "metadata": {},
   "source": [
    "<div class=\"alert alert-info\"><font size = \"3\"><b>Background:</b></font><font size=\"3\">  You surely noticed that the output of type(var2) yields \"class int\". The reason is that Python treats the basic built-in data types internally as abstract classes. When a value is assigned to a variable name in Python, an object of the data type class is instantiated/created in the background which is then assigned to the variable. But for now, it shouldn't bother you and the distinction between the term \"data type\" and the term \"class\" is irrelevant.<br><br> <b> In the advanced Python course, you'll learn the concept of object-oriented programming, what classes are and their possible use cases.</div></font>\n",
    "\n",
    "<font size = \"3\">So Python automatically assigned adequate data types to the variables based on the assigned values. But it is also possible to explicitly use or convert to a specific data type, if possible:</font>"
   ]
  },
  {
   "cell_type": "code",
   "execution_count": 34,
   "metadata": {},
   "outputs": [
    {
     "name": "stdout",
     "output_type": "stream",
     "text": [
      "<class 'bool'>\n",
      "False\n",
      "<class 'int'>\n",
      "0\n"
     ]
    }
   ],
   "source": [
    "print(type(var1))    # Outputs data type or class of the variable var1\n",
    "print(var1)          # Outputs the content of the variable var1\n",
    "var9 = int(var1)     # Converts var1 of type boolean to integer and stores result in variable var9\n",
    "print(type(var9))    # Outputs data type or class of the variable var9\n",
    "print(var9)          # Outputs the content of the variable var9"
   ]
  },
  {
   "cell_type": "code",
   "execution_count": 35,
   "metadata": {},
   "outputs": [
    {
     "name": "stdout",
     "output_type": "stream",
     "text": [
      "<class 'int'>\n",
      "4\n",
      "<class 'float'>\n",
      "4.0\n",
      "<class 'str'>\n",
      "4.0\n"
     ]
    }
   ],
   "source": [
    "print(type(var2))    # Outputs data type or class of the variable var2\n",
    "print(var2)          # Outputs content of the variable var2\n",
    "\n",
    "var10 = float(var2)  # Converts var2 of type integer to float and stores result in variable var10\n",
    "print(type(var10))   # Outputs data type or class of the variable var10\n",
    "print(var10)         # Outputs content of the variable var10\n",
    "\n",
    "var11 = str(var10)   # Converts var10 of type float to string and stores result in variable var11\n",
    "print(type(var11))   # Outputs data type or class of the variable var11\n",
    "print(var11)         # Outputs content of the variable var11"
   ]
  },
  {
   "cell_type": "markdown",
   "metadata": {},
   "source": [
    "<font size=3>In contrast to programming languages with static typing, it is not a problem in Python to mix different data types in arithmetic operations, since var2 is implicitly converted to float:</font>"
   ]
  },
  {
   "cell_type": "code",
   "execution_count": 36,
   "metadata": {},
   "outputs": [
    {
     "name": "stdout",
     "output_type": "stream",
     "text": [
      "<class 'float'>\n",
      "127.456\n"
     ]
    }
   ],
   "source": [
    "result = var2 + var3   # Adds var2 of type integer to var3 of type float\n",
    "print(type(result))    # Outputs the data type or class of the variable result\n",
    "print(result)          # Outputs "
   ]
  },
  {
   "cell_type": "markdown",
   "metadata": {},
   "source": [
    "<font size=\"3\">In some cases the implicit data type conversion fails and a specific data type is required:</font>"
   ]
  },
  {
   "cell_type": "code",
   "execution_count": 37,
   "metadata": {},
   "outputs": [],
   "source": [
    "result = var4 + var2   # Attempts to add var4 of type string to var2 of type integer"
   ]
  },
  {
   "cell_type": "markdown",
   "metadata": {},
   "source": [
    "<font size=\"3\">Converting var2 (of type integer) to a string solves the problem and the strings are simply concatenated using the addition operator \"+\":</font>"
   ]
  },
  {
   "cell_type": "code",
   "execution_count": 38,
   "metadata": {
    "scrolled": true
   },
   "outputs": [
    {
     "ename": "TypeError",
     "evalue": "unsupported operand type(s) for +: 'float' and 'str'",
     "output_type": "error",
     "traceback": [
      "\u001b[0;31m---------------------------------------------------------------------------\u001b[0m",
      "\u001b[0;31mTypeError\u001b[0m                                 Traceback (most recent call last)",
      "\u001b[0;32m<ipython-input-38-ebf442423bab>\u001b[0m in \u001b[0;36m<module>\u001b[0;34m\u001b[0m\n\u001b[0;32m----> 1\u001b[0;31m \u001b[0mresult\u001b[0m \u001b[0;34m=\u001b[0m \u001b[0mvar4\u001b[0m \u001b[0;34m+\u001b[0m \u001b[0mstr\u001b[0m\u001b[0;34m(\u001b[0m\u001b[0mvar2\u001b[0m\u001b[0;34m)\u001b[0m \u001b[0;31m# Concatenates the string var4 with the string representation of var2\u001b[0m\u001b[0;34m\u001b[0m\u001b[0;34m\u001b[0m\u001b[0m\n\u001b[0m\u001b[1;32m      2\u001b[0m \u001b[0mprint\u001b[0m\u001b[0;34m(\u001b[0m\u001b[0mtype\u001b[0m\u001b[0;34m(\u001b[0m\u001b[0mresult\u001b[0m\u001b[0;34m)\u001b[0m\u001b[0;34m)\u001b[0m       \u001b[0;31m# Outputs data type or class of the variable result\u001b[0m\u001b[0;34m\u001b[0m\u001b[0;34m\u001b[0m\u001b[0m\n\u001b[1;32m      3\u001b[0m \u001b[0mprint\u001b[0m\u001b[0;34m(\u001b[0m\u001b[0mresult\u001b[0m\u001b[0;34m)\u001b[0m             \u001b[0;31m# Outputs content of the variable result\u001b[0m\u001b[0;34m\u001b[0m\u001b[0;34m\u001b[0m\u001b[0m\n",
      "\u001b[0;31mTypeError\u001b[0m: unsupported operand type(s) for +: 'float' and 'str'"
     ]
    }
   ],
   "source": [
    "result = var4 + str(var2) # Concatenates the string var4 with the string representation of var2\n",
    "print(type(result))       # Outputs data type or class of the variable result\n",
    "print(result)             # Outputs content of the variable result"
   ]
  },
  {
   "cell_type": "code",
   "execution_count": 1,
   "metadata": {},
   "outputs": [
    {
     "name": "stdout",
     "output_type": "stream",
     "text": [
      "<class 'str'>\n",
      "<class 'float'>\n"
     ]
    },
    {
     "data": {
      "text/plain": [
       "246.246"
      ]
     },
     "execution_count": 1,
     "metadata": {},
     "output_type": "execute_result"
    }
   ],
   "source": [
    "var11 = \"123.123\"\n",
    "print(type(var11))\n",
    "var11 = float(var11)\n",
    "print(type(var11))\n",
    "var11 + var11"
   ]
  },
  {
   "cell_type": "markdown",
   "metadata": {},
   "source": [
    "<font size=\"3\"><div class=\"alert alert-warning\"><b>Exercise:</b> <br> Write some code which defines 3 numbers, sums them and outputs the three numbers seperated by commas in one line and their sum in a new line.</div>\n",
    "\n",
    "<b>Try it yourself:</b></font>"
   ]
  },
  {
   "cell_type": "code",
   "execution_count": null,
   "metadata": {},
   "outputs": [],
   "source": []
  },
  {
   "cell_type": "markdown",
   "metadata": {},
   "source": [
    "### Example Solution:"
   ]
  },
  {
   "cell_type": "code",
   "execution_count": 1,
   "metadata": {},
   "outputs": [
    {
     "name": "stdout",
     "output_type": "stream",
     "text": [
      "2,5,6\n",
      "13\n"
     ]
    }
   ],
   "source": [
    "a = 2\n",
    "b = 5\n",
    "c = 6\n",
    "result = a + b + c\n",
    "print(str(a) + \",\" + str(b) + \",\" + str(c))\n",
    "print(str(result))"
   ]
  },
  {
   "cell_type": "markdown",
   "metadata": {},
   "source": [
    "# Python Datatypes\n",
    "<br>\n",
    "<font size=\"3\">\n",
    "Besides the universal data types Boolean, Integer, Float and String which can be found in most programming languages, Python offers a variety of Python specific data types (or data type classes). The figure shows an overview of the built-in data types in Python 3:\n",
    "</font>\n",
    "<img src=\"img/python_datatypes.png\"><br>\n",
    "<font size=\"2\">\n",
    "<i>Source: Wikimedia Commons - <a href=\"https://en.wikipedia.org/wiki/Data_type#/media/File:Python_3._The_standard_type_hierarchy.png\">https://en.wikipedia.org/wiki/Data_type#/media/File:Python_3._The_standard_type_hierarchy.png</a></i></font>\n",
    "<br><br>\n",
    "<font size=\"3\">\n",
    "Among those <b>Tuples</b>, <b>Lists</b> and <b>Dictionaries</b> are the most frequent ones used in Python.\n",
    "</font>"
   ]
  },
  {
   "cell_type": "markdown",
   "metadata": {},
   "source": [
    "## Tuples\n",
    "<br>\n",
    "<font size=\"3\">\n",
    "A tuple in Python represents an <b>immutable</b> list (with fixed length) of objects or elements of variable data types e.g. Bool, Integer, Float, String or an arbitrary object of an user-defined class. Tuples are also <b>ordered</b>, hence two tuples containing the same elements, but in different order, are not considered equal.<br><br>\n",
    "    \n",
    "**A tuple is initialized using round brackets.**\n",
    "</font>\n",
    "\n",
    "### Example:"
   ]
  },
  {
   "cell_type": "code",
   "execution_count": 10,
   "metadata": {},
   "outputs": [
    {
     "name": "stdout",
     "output_type": "stream",
     "text": [
      "t1 is of <class 'tuple'>\n",
      "t1 contains (1, 2, 3)\n",
      "t2 is of<class 'tuple'>\n",
      "t2 contains (4, 5, 6)\n",
      "Is t3 == t1 ?\n",
      "True\n",
      "Is t4 == t1 ?\n",
      "False\n"
     ]
    }
   ],
   "source": [
    "# a Python tuple is initialized with ROUND brackets\n",
    "t1 = (1,2,3,)\n",
    "print(\"t1 is of \" + str(type(t1)))  # Outputs the variable data type or object class\n",
    "print(\"t1 contains \" + str(t1))     # Outputs the content of the variable\n",
    "\n",
    "# or using the so-called constructor, a special function creating an object instance (instanciation) of a class\n",
    "t2 = tuple((4,5,6))\n",
    "print(\"t2 is of\" + str(type(t2)))  # Outputs the variable data type or object class\n",
    "print(\"t2 contains \" + str(t2))    # Outputs the content of the variable\n",
    "\n",
    "t3 = t1                            # Assign copy* of t1 to t3\n",
    "t4 = (3,1,2,)\n",
    "\n",
    "result = t3 == t1                  # Compare the tuples t1 and t3\n",
    "print(\"Is t3 == t1 ?\")\n",
    "print(result)                      # Output the result of the comparison\n",
    "\n",
    "result2 = t4 == t1                  # Compare the tuples t1 and t4\n",
    "print(\"Is t4 == t1 ?\")\n",
    "print(result2)                      # Output the result of the comparison"
   ]
  },
  {
   "cell_type": "markdown",
   "metadata": {},
   "source": [
    "<font size=\"3\">Alternatively, instead of using the built-in type function, **you can check the data type of a Python variable* with the isinstance() function.** It is particularily useful to check the user input data type and for debugging.</font> <br><br>\n",
    "\n",
    "<font size=\"3\"><i>* You can use the isinstance() function to check if an arbitrary Python object is of a specific Python class.</i></font>"
   ]
  },
  {
   "cell_type": "code",
   "execution_count": 37,
   "metadata": {},
   "outputs": [
    {
     "name": "stdout",
     "output_type": "stream",
     "text": [
      "t1 is of <class 'tuple'>\n",
      "Is t1 an instance of float? -> False\n",
      "Is t1 an instance of tuple? -> True\n"
     ]
    }
   ],
   "source": [
    "result1 = isinstance(t1, float)   # Check if Python variable t1 is of data type float, yields boolean (False / True)\n",
    "print(\"t1 is of \"+str(type(t1)))\n",
    "print(\"Is t1 an instance of float? -> \" + str(result1))    # Outputs content of result1\n",
    "\n",
    "result2 = isinstance(t1, tuple)\n",
    "print(\"Is t1 an instance of tuple? -> \" + str(result2))    # Outputs content of result2"
   ]
  },
  {
   "cell_type": "markdown",
   "metadata": {},
   "source": [
    "<font size=\"3\">A very useful function is <b><i>len()</i></b> giving the length of a tuple, list or string:</font>"
   ]
  },
  {
   "cell_type": "code",
   "execution_count": 56,
   "metadata": {},
   "outputs": [
    {
     "name": "stdout",
     "output_type": "stream",
     "text": [
      "Length of t3:\n",
      "3\n",
      "Length of t4:\n",
      "0\n",
      "Length of s1:\n",
      "12\n"
     ]
    }
   ],
   "source": [
    "t3 = (\"foo\",\"bar\",5,)  # Defines a tuple t3\n",
    "print(\"Length of t3:\") \n",
    "print(len(t3))         # Outputs the length of the tuple t3\n",
    "\n",
    "t4 = ()\n",
    "print(\"Length of t4:\") \n",
    "print(len(t4))         # Outputs the length of the tuple t4\n",
    "\n",
    "s1 = \"Hello world!\"\n",
    "print(\"Length of s1:\") \n",
    "print(len(s1))         # Outputs the length of the string s1"
   ]
  },
  {
   "cell_type": "markdown",
   "metadata": {},
   "source": [
    "## Addressing Tuple Elements\n",
    "<br>\n",
    "<font size=\"3\">\n",
    "The individual elements in a Python Tuple are adressed with an integer index starting from zero. A negative integer can be used to address the tuple elements in reversed order where an index of -1 yields the last element in the tuple. The figure illustrates the element indexing:\n",
    "</font>\n",
    "<br>\n",
    "<br>\n",
    "<div align=\"center\">\n",
    "<img src=\"img/python_list_tuple_negindex.png\" width=\"66%\">\n",
    "</div>\n",
    "<br>\n",
    "<br>\n",
    "<font size=\"2\"><i>Source: <a href=\"https://www.pybloggers.com/2018/07/lists-and-tuples-in-python/\">https://www.pybloggers.com/2018/07/lists-and-tuples-in-python/</a></i></font>\n",
    "<br><br>\n",
    "\n",
    "<font size=\"3\">\n",
    "    <b>Square brackets</b> around the integer index following the tuple's variable name are used <b>to select a specific element of the tuple</b>: \n",
    "</font>\n",
    "<br>\n",
    "\n",
    "### Example:"
   ]
  },
  {
   "cell_type": "code",
   "execution_count": 77,
   "metadata": {},
   "outputs": [
    {
     "name": "stdout",
     "output_type": "stream",
     "text": [
      "Element with index 0 in t3:\n",
      "7\n",
      "Last element in t3:\n",
      "42\n"
     ]
    }
   ],
   "source": [
    "t3 = (7, \"orange\", 3.141, \"bread\", \"leite\", 42)    # Assigns tuple containing elements of various data types\n",
    "\n",
    "print(\"Element with index 0 in t3:\")\n",
    "print(t3[0])  # An index of 0 yields the first element of the tuple\n",
    "print(\"Last element in t3:\")\n",
    "print(t3[-1]) # An index of -1 yields the last element of the tuple"
   ]
  },
  {
   "cell_type": "markdown",
   "metadata": {},
   "source": [
    "<font size=\"3\">\n",
    "You can simply query with the \"in\"-operator (which returns a boolean) if a certain element is at least contained once in the tuple:\n",
    "</font>"
   ]
  },
  {
   "cell_type": "code",
   "execution_count": 22,
   "metadata": {},
   "outputs": [
    {
     "name": "stdout",
     "output_type": "stream",
     "text": [
      "Is \"orange\" in t3?\n",
      "True\n",
      "Is \"paprika\" in t3?\n",
      "False\n"
     ]
    }
   ],
   "source": [
    "t3 = (7, \"orange\", 3.141, \"bread\", \"leite\", 42)    # Assigns tuple containing elements of various data types\n",
    "\n",
    "result = \"orange\" in t3\n",
    "print(\"Is \\\"orange\\\" in t3?\")\n",
    "print(result)\n",
    "\n",
    "result2 = \"paprika\" in t3\n",
    "print(\"Is \\\"paprika\\\" in t3?\")\n",
    "print(result2)"
   ]
  },
  {
   "cell_type": "markdown",
   "metadata": {},
   "source": [
    "<font size=\"3\">If you attempt to access a tuple element with an invalid index e.g. <br>\n",
    "<ul>\n",
    "    <li><b>the index is bigger than len(tuple) - 1<b></li>\n",
    "        <li><b>the index is of the wrong data type</b></li>\n",
    "</ul>\n",
    "an error ocurrs:\n",
    "</font>"
   ]
  },
  {
   "cell_type": "code",
   "execution_count": 64,
   "metadata": {},
   "outputs": [
    {
     "name": "stdout",
     "output_type": "stream",
     "text": [
      "Length of t3:\n",
      "6\n",
      "Element with index 6:\n"
     ]
    },
    {
     "ename": "IndexError",
     "evalue": "tuple index out of range",
     "output_type": "error",
     "traceback": [
      "\u001b[0;31m---------------------------------------------------------------------------\u001b[0m",
      "\u001b[0;31mIndexError\u001b[0m                                Traceback (most recent call last)",
      "\u001b[0;32m<ipython-input-64-6fa6c9b01036>\u001b[0m in \u001b[0;36m<module>\u001b[0;34m\u001b[0m\n\u001b[1;32m      5\u001b[0m \u001b[0;34m\u001b[0m\u001b[0m\n\u001b[1;32m      6\u001b[0m \u001b[0mprint\u001b[0m\u001b[0;34m(\u001b[0m\u001b[0;34m\"Element with index 6:\"\u001b[0m\u001b[0;34m)\u001b[0m\u001b[0;34m\u001b[0m\u001b[0;34m\u001b[0m\u001b[0m\n\u001b[0;32m----> 7\u001b[0;31m \u001b[0mprint\u001b[0m\u001b[0;34m(\u001b[0m\u001b[0mt3\u001b[0m\u001b[0;34m[\u001b[0m\u001b[0;36m6\u001b[0m\u001b[0;34m]\u001b[0m\u001b[0;34m)\u001b[0m\u001b[0;34m\u001b[0m\u001b[0;34m\u001b[0m\u001b[0m\n\u001b[0m",
      "\u001b[0;31mIndexError\u001b[0m: tuple index out of range"
     ]
    }
   ],
   "source": [
    "t3 = (7, \"orange\", 3.141, \"bread\", \"leite\", 42) \n",
    "\n",
    "print(\"Length of t3:\")\n",
    "print(len(t3))\n",
    "\n",
    "print(\"Element with index 6:\")\n",
    "print(t3[6])                       # Attempting to access tuple element with invalid index (index out of range)"
   ]
  },
  {
   "cell_type": "code",
   "execution_count": 65,
   "metadata": {},
   "outputs": [
    {
     "ename": "TypeError",
     "evalue": "tuple indices must be integers or slices, not str",
     "output_type": "error",
     "traceback": [
      "\u001b[0;31m---------------------------------------------------------------------------\u001b[0m",
      "\u001b[0;31mTypeError\u001b[0m                                 Traceback (most recent call last)",
      "\u001b[0;32m<ipython-input-65-de90e17c8eb1>\u001b[0m in \u001b[0;36m<module>\u001b[0;34m\u001b[0m\n\u001b[1;32m      1\u001b[0m \u001b[0mt3\u001b[0m \u001b[0;34m=\u001b[0m \u001b[0;34m(\u001b[0m\u001b[0;36m7\u001b[0m\u001b[0;34m,\u001b[0m \u001b[0;34m\"orange\"\u001b[0m\u001b[0;34m,\u001b[0m \u001b[0;36m3.141\u001b[0m\u001b[0;34m,\u001b[0m \u001b[0;34m\"bread\"\u001b[0m\u001b[0;34m,\u001b[0m \u001b[0;34m\"leite\"\u001b[0m\u001b[0;34m,\u001b[0m \u001b[0;36m42\u001b[0m\u001b[0;34m)\u001b[0m\u001b[0;34m\u001b[0m\u001b[0;34m\u001b[0m\u001b[0m\n\u001b[1;32m      2\u001b[0m \u001b[0;34m\u001b[0m\u001b[0m\n\u001b[0;32m----> 3\u001b[0;31m \u001b[0mprint\u001b[0m\u001b[0;34m(\u001b[0m\u001b[0mt3\u001b[0m\u001b[0;34m[\u001b[0m\u001b[0;34m\"banana\"\u001b[0m\u001b[0;34m]\u001b[0m\u001b[0;34m)\u001b[0m\u001b[0;34m\u001b[0m\u001b[0;34m\u001b[0m\u001b[0m\n\u001b[0m",
      "\u001b[0;31mTypeError\u001b[0m: tuple indices must be integers or slices, not str"
     ]
    }
   ],
   "source": [
    "t3 = (7, \"orange\", 3.141, \"bread\", \"leite\", 42) \n",
    "\n",
    "print(t3[\"banana\"])"
   ]
  },
  {
   "cell_type": "markdown",
   "metadata": {},
   "source": [
    "<font size=\"3\">\n",
    "When you attempt to modify an element of the tuple, an exception is thrown, since the tuple is <b>immutable</b>:\n",
    "</font>"
   ]
  },
  {
   "cell_type": "code",
   "execution_count": 1,
   "metadata": {},
   "outputs": [
    {
     "ename": "TypeError",
     "evalue": "'tuple' object does not support item assignment",
     "output_type": "error",
     "traceback": [
      "\u001b[0;31m---------------------------------------------------------------------------\u001b[0m",
      "\u001b[0;31mTypeError\u001b[0m                                 Traceback (most recent call last)",
      "\u001b[0;32m<ipython-input-1-47c268e15b4b>\u001b[0m in \u001b[0;36m<module>\u001b[0;34m\u001b[0m\n\u001b[1;32m      1\u001b[0m \u001b[0mt3\u001b[0m \u001b[0;34m=\u001b[0m \u001b[0;34m(\u001b[0m\u001b[0;36m7\u001b[0m\u001b[0;34m,\u001b[0m \u001b[0;34m\"orange\"\u001b[0m\u001b[0;34m,\u001b[0m \u001b[0;36m3.141\u001b[0m\u001b[0;34m,\u001b[0m \u001b[0;34m\"bread\"\u001b[0m\u001b[0;34m,\u001b[0m \u001b[0;34m\"leite\"\u001b[0m\u001b[0;34m,\u001b[0m \u001b[0;36m42\u001b[0m\u001b[0;34m)\u001b[0m\u001b[0;34m\u001b[0m\u001b[0;34m\u001b[0m\u001b[0m\n\u001b[1;32m      2\u001b[0m \u001b[0;34m\u001b[0m\u001b[0m\n\u001b[0;32m----> 3\u001b[0;31m \u001b[0mt3\u001b[0m\u001b[0;34m[\u001b[0m\u001b[0;36m1\u001b[0m\u001b[0;34m]\u001b[0m \u001b[0;34m=\u001b[0m \u001b[0;34m\"apple\"\u001b[0m\u001b[0;34m\u001b[0m\u001b[0;34m\u001b[0m\u001b[0m\n\u001b[0m",
      "\u001b[0;31mTypeError\u001b[0m: 'tuple' object does not support item assignment"
     ]
    }
   ],
   "source": [
    "t3 = (7, \"orange\", 3.141, \"bread\", \"leite\", 42) \n",
    "\n",
    "t3[1] = \"apple\""
   ]
  },
  {
   "cell_type": "markdown",
   "metadata": {},
   "source": [
    "<font size = \"3\">\n",
    "    <b>Subsets (called slices in Python)</b> of tuples can be selected using the <font size=\"4\"><b>slice notation</b></font> of Python:\n",
    "</font>\n",
    "<center>\n",
    "<img src=\"img/python_slice.png\" width=\"75%\">\n",
    "</center>\n",
    "<br>\n",
    "<font size=\"2\">\n",
    "<i>Source: <a href=\"https://railsware.com/blog/python-for-machine-learning-indexing-and-slicing-for-lists-tuples-strings-and-other-sequential-types/\">https://railsware.com/blog/python-for-machine-learning-indexing-and-slicing-for-lists-tuples-strings-and-other-sequential-types/</a> </i>\n",
    "</font>\n",
    "<br>\n",
    "<font size=\"3\">\n",
    "Be var e.g. a Python tuple or list, then <br><br>\n",
    "<ul>\n",
    "<li><b>var[start:stop] yields the elements with indices >=start (including start) to < stop (excluding stop)<br></li>\n",
    "<li>var[start:stop:n] yields every n-th element with indices >=start (including start) to < stop (excluding stop)<br></li>\n",
    "<li>var[::-1] yields the elements in reversed order</b></li>\n",
    "</ul>\n",
    "</font>\n",
    "\n",
    "### Example:"
   ]
  },
  {
   "cell_type": "code",
   "execution_count": 51,
   "metadata": {},
   "outputs": [
    {
     "name": "stdout",
     "output_type": "stream",
     "text": [
      "Slice 1:\n",
      "(3.141, 'apple')\n",
      "Slice 2:\n",
      "(3.141, 'apple')\n",
      "Slice 3:\n",
      "(1, 6.626e+23)\n",
      "Slice 4:\n",
      "(6.626e+23, 1, 0, 'milk', 'apple', 3.141)\n",
      "Slice 5:\n",
      "(3.141, 'milk', 1)\n"
     ]
    }
   ],
   "source": [
    "t4 = (3.141, \"apple\", \"milk\", 0, 1, 6.626E23)\n",
    "\n",
    "print(\"Slice 1:\")\n",
    "print(t4[:2])   # yields the slice up to (but not including!) element with index 2\n",
    "\n",
    "print(\"Slice 2:\")\n",
    "print(t4[0:2])  # equivalent to the expression above\n",
    "\n",
    "print(\"Slice 3:\")\n",
    "print(t4[-2:])  # yields the last two elements of the tuple (the first element of the slice has index -2)\n",
    "\n",
    "print(\"Slice 4:\")\n",
    "print(t4[::-1]) # yields every element of the tuple, but in reversed order\n",
    "\n",
    "print(\"Slice 5:\")\n",
    "print(t4[::2])  # yields every 2nd element of the tuple in normal order"
   ]
  },
  {
   "cell_type": "markdown",
   "metadata": {},
   "source": [
    "### Nested Tuples\n",
    "<br>\n",
    "\n",
    "<font size=\"3\">\n",
    "Tuples can also be (arbitrarily) <b>nested</b>, hence a tuple can be an element of another tuple.<br><br>\n",
    "</font>\n",
    "\n",
    "<center>\n",
    "<img src=\"img/python_nested_lists_tuples.png\" width=\"75%\">\n",
    "</center>\n",
    "<font size=\"2\"><i>Source: <a href=\"https://www.pybloggers.com/2018/07/lists-and-tuples-in-python/\">https://www.pybloggers.com/2018/07/lists-and-tuples-in-python/</a></i></font>\n",
    "<br>\n",
    "\n",
    "### Example:"
   ]
  },
  {
   "cell_type": "code",
   "execution_count": 6,
   "metadata": {},
   "outputs": [
    {
     "name": "stdout",
     "output_type": "stream",
     "text": [
      "(3.141, ('bar', 'cu', 'afk', (4, 5, 'foo')), 1337, 42)\n"
     ]
    }
   ],
   "source": [
    "t1 = (4, 5, \"foo\")\n",
    "t2 = (\"bar\", \"cu\", \"afk\", t1)\n",
    "t3 = (3.141, t2, 1337, 42)\n",
    "print(t3)\n",
    "# t3 = (3.141, t2, 1337, 42)\n",
    "#              |\n",
    "#           (\"bar\", \"cu\", \"afk\", t1)\n",
    "#                                 |\n",
    "#                           (4, 5, \"foo\")"
   ]
  },
  {
   "cell_type": "markdown",
   "metadata": {},
   "source": [
    "<font size=\"3\">\n",
    "In order to access individual elements in a nested tuple, reapply indexing as often as required:\n",
    "</font>"
   ]
  },
  {
   "cell_type": "code",
   "execution_count": 7,
   "metadata": {},
   "outputs": [
    {
     "name": "stdout",
     "output_type": "stream",
     "text": [
      "3.141\n",
      "('bar', 'cu', 'afk', (4, 5, 'foo'))\n",
      "bar\n",
      "(4, 5, 'foo')\n",
      "foo\n"
     ]
    }
   ],
   "source": [
    "print(t3[0])\n",
    "print(t3[1])\n",
    "print(t3[1][0])\n",
    "print(t3[1][3])\n",
    "print(t3[1][3][2])"
   ]
  },
  {
   "cell_type": "markdown",
   "metadata": {},
   "source": [
    "<font size=\"3\"><b>Note that <i>len()</i> is <i>not <a href=\"https://en.wikipedia.org/wiki/Recursion_(computer_science)\">recursive</a></i> which is demonstrated by the following example using the previously-defined nested tuple:</b></font>"
   ]
  },
  {
   "cell_type": "code",
   "execution_count": 20,
   "metadata": {},
   "outputs": [
    {
     "name": "stdout",
     "output_type": "stream",
     "text": [
      "len(t3)=4\n",
      "(recursive) element count in t3: 9\n"
     ]
    }
   ],
   "source": [
    "# print result of len(t3)\n",
    "print(\"len(t3)=\"+str(len(t3)))\n",
    "\n",
    "# define recursive len to get total number of elements in nested tuple\n",
    "def recursive_len(t):\n",
    "    if isinstance(t, tuple):\n",
    "        count = 0\n",
    "        for elem in t:\n",
    "            if isinstance(elem, tuple):\n",
    "                count += recursive_len(elem)\n",
    "            else:\n",
    "                count += 1\n",
    "        return count\n",
    "    else:\n",
    "        return 1\n",
    "\n",
    "# but total number of elements in nested tuple is\n",
    "print(\"(recursive) element count in t3: \"+str(recursive_len(t3)))"
   ]
  },
  {
   "cell_type": "markdown",
   "metadata": {},
   "source": [
    "<font size=\"3\">The builtin method <b><i>len()</i></b> yields only 4, the number of elements in the number t3 because it is not a recursive function. The function <b><i>recursive_len()</i></b> yields 9 because it traverses down the other tuples.</font>"
   ]
  },
  {
   "cell_type": "markdown",
   "metadata": {},
   "source": [
    "<font size=\"3\"><div class=\"alert alert-info\"><b>Background:</b> <br><br> A recursive function is a function which calls itself. An (infinite) recursive loop could occur if the recursive function is not carefully defined.\n",
    "</div>"
   ]
  },
  {
   "cell_type": "markdown",
   "metadata": {},
   "source": [
    "<font size=\"3\"><div class=\"alert alert-warning\"><b>Exercise:</b> <br> Define a shopping list as nested tuples. Group vegetables, fruits and diary products in seperate tuples. Then query, if \"Fennel\" is in one of the tuples and count the total number of items on the shopping list.<br><br>\n",
    "<b>The shopping list:</b>\n",
    "<ul>\n",
    "    <li>Tomatoes</li>\n",
    "    <li>Yoghurt</li>\n",
    "    <li>Butter</li>\n",
    "    <li>Apples</li>\n",
    "    <li>Oranges</li>\n",
    "    <li>Fennel</li>\n",
    "    <li>Bananas</li>\n",
    "    <li>Milk</li>\n",
    "    <li>Paprikas</li>\n",
    "</ul>\n",
    "</div>\n",
    "\n",
    "<b>Try it yourself:</b></font>"
   ]
  },
  {
   "cell_type": "code",
   "execution_count": null,
   "metadata": {},
   "outputs": [],
   "source": []
  },
  {
   "cell_type": "markdown",
   "metadata": {},
   "source": [
    "### Example Solution:"
   ]
  },
  {
   "cell_type": "code",
   "execution_count": 5,
   "metadata": {},
   "outputs": [
    {
     "name": "stdout",
     "output_type": "stream",
     "text": [
      "(('Paprika', 'Tomatoes', 'Fennel'), ('Oranges', 'Bananas', 'Apples'), ('Milk', 'Yoghurt', 'Butter'))\n",
      "True\n",
      "False\n",
      "False\n",
      "9\n"
     ]
    }
   ],
   "source": [
    "# assemble grouped shopping list with nested tuples\n",
    "vegetables = (\"Paprika\", \"Tomatoes\", \"Fennel\")\n",
    "fruits = (\"Oranges\", \"Bananas\", \"Apples\")\n",
    "dairy_products = (\"Milk\", \"Yoghurt\", \"Butter\")\n",
    "shopping_list = (vegetables, fruits, dairy_products)\n",
    "print(shopping_list)\n",
    "\n",
    "# ask if \"Fennel\" is in one of the tuples\n",
    "print(\"Fennel\" in vegetables)\n",
    "print(\"Fennel\" in fruits)\n",
    "print(\"Fennel\" in dairy_products)\n",
    "\n",
    "# count the items on the shopping list\n",
    "num_items = len(vegetables) + len(fruits) + len(dairy_products)\n",
    "print(num_items)"
   ]
  },
  {
   "cell_type": "markdown",
   "metadata": {},
   "source": [
    "## Lists\n",
    "<br>\n",
    "\n",
    "<font size=\"3\">\n",
    "    A list in Python behaves similar to the tuple, but it is <b>mutable</b> and <b>dynamic</b>, hence its length and elements can be both changed.<br> Like tuples, lists are also <b>ordered</b>, hence two lists containing the same elements, but in different order, are not considered equal.<br> <b>Slicing</b> works the same way for lists as it does for tuples in Python.\n",
    "<br><br>\n",
    "    <b>A list is initialized using square brackets.</b>\n",
    "</font>\n",
    "\n",
    "### Example:"
   ]
  },
  {
   "cell_type": "code",
   "execution_count": 23,
   "metadata": {},
   "outputs": [
    {
     "name": "stdout",
     "output_type": "stream",
     "text": [
      "['Greifswald', 'Berlin', 'Hamburg', 'Hannover']\n",
      "Is cities == cities2?\n",
      "True\n",
      "Is cities == cities3?\n",
      "False\n"
     ]
    }
   ],
   "source": [
    "cities = ['Greifswald', 'Berlin', 'Hamburg', 'Hannover']   # Definition of a list\n",
    "print(cities)                                              # Output the list\n",
    "cities2 = cities                                           # Assign cities to cities2\n",
    "cities3 = ['Hannover', 'Greifswald', 'Berlin', 'Hamburg']  # Define cities3 as permutation of cities\n",
    "\n",
    "result = cities == cities2                                 # Compare the lists cities and cities2\n",
    "print(\"Is cities == cities2?\")\n",
    "print(result)                                              # Output the result of the comparison\n",
    "\n",
    "result2 = cities == cities3                                # Compare the lists cities and cities3\n",
    "print(\"Is cities == cities3?\")\n",
    "print(result2)                                             # Output the result of the comparison"
   ]
  },
  {
   "cell_type": "markdown",
   "metadata": {},
   "source": [
    "<font size=\"3\">The list content and its length can be easily modified using the assigment via index and the <b>list methods:</b> <b><i>pop()</i></b>, <b><i>append()</i></b> and <b><i>extend()</i></b>. <br>\n",
    "<ul>\n",
    "    <li>The list method <b><i>pop(n)</b></i> removes the n-th element from the list.</li>\n",
    "    <li>The list method <b><i>append(elem)</b></i> adds the element elem to the list.</li>\n",
    "    <li>The list method <b><i>extend(list)</b></i> extends the list with the content of another list.</li>\n",
    "    <li>The list method <b><i>index(elem)</b></i> yields the integer index of the element in the list, if present. <b>Otherwise the list method yields -1.</b></li>\n",
    "</ul>\n",
    "    <b>A method is a function bound to a specific object and acts on the object itself.</b><br>\n",
    "    <b>A method of the list or any object in Python in general is invoked via the \".\" / dot-operator.</b>\n",
    "</font>\n",
    "\n",
    "### Examples:"
   ]
  },
  {
   "cell_type": "code",
   "execution_count": 7,
   "metadata": {},
   "outputs": [
    {
     "name": "stdout",
     "output_type": "stream",
     "text": [
      "['Greifswald', 'Hamburg', 'Hannover']\n"
     ]
    }
   ],
   "source": [
    "# Definition of a list\n",
    "cities = ['Greifswald', 'Berlin', 'Hamburg', 'Hannover']   \n",
    "\n",
    "# Remove element with index 1 from list by invoking the pop() method\n",
    "cities.pop(1)                                              \n",
    "\n",
    "# Output modified list with one element removed\n",
    "print(cities)         "
   ]
  },
  {
   "cell_type": "markdown",
   "metadata": {},
   "source": [
    "<font size=\"3\">\n",
    "    In this case, the method <i>pop()</i> acted on the list \"cities\" itself. The result, the modified list, is accessible using the same variable name and no explicit assignment of the method's result is required.\n",
    "</font>\n",
    "<br>\n",
    "<div class=\"alert alert-info\"><font size = \"4\"><b>Background:</b></font><br>\n",
    "<center>\n",
    "<img src=\"img/python_meme_objs.png\" width=\"40%\">\n",
    "</center>\n",
    "<br>\n",
    "<font size=\"3\">\n",
    "In Python, all entities are objects, hence independent instances of an abstract class. Every object can have functions bound to the object, called <i>methods</i>. The methods of an object can be invoked using the dot-operator. In this case, the lists we create are instances of a List class.</div></font>\n",
    "<br>\n",
    "<font size=\"3\">\n",
    "    <b>An element of the list can be easily modified via the assignment of a new element:</b>\n",
    "</font>"
   ]
  },
  {
   "cell_type": "code",
   "execution_count": 2,
   "metadata": {},
   "outputs": [
    {
     "name": "stdout",
     "output_type": "stream",
     "text": [
      "['Rostock', 'Berlin', 'Hamburg', 'Hanover']\n"
     ]
    }
   ],
   "source": [
    "cities = ['Greifswald', 'Berlin', 'Hamburg', 'Hanover']    # Definition of a list\n",
    "cities[0] = \"Rostock\"                                       # Modification of an element\n",
    "print(cities)"
   ]
  },
  {
   "cell_type": "markdown",
   "metadata": {},
   "source": [
    "<font size=\"3\"><b>You can query the index of a list element, if it is present in the list:</b></font>"
   ]
  },
  {
   "cell_type": "code",
   "execution_count": 4,
   "metadata": {},
   "outputs": [
    {
     "name": "stdout",
     "output_type": "stream",
     "text": [
      "0\n"
     ]
    },
    {
     "ename": "ValueError",
     "evalue": "'Munich' is not in list",
     "output_type": "error",
     "traceback": [
      "\u001b[0;31m---------------------------------------------------------------------------\u001b[0m",
      "\u001b[0;31mValueError\u001b[0m                                Traceback (most recent call last)",
      "\u001b[0;32m<ipython-input-4-9b2b775294c6>\u001b[0m in \u001b[0;36m<module>\u001b[0;34m\u001b[0m\n\u001b[1;32m      2\u001b[0m \u001b[0mprint\u001b[0m\u001b[0;34m(\u001b[0m\u001b[0mcities\u001b[0m\u001b[0;34m.\u001b[0m\u001b[0mindex\u001b[0m\u001b[0;34m(\u001b[0m\u001b[0;34m\"Rostock\"\u001b[0m\u001b[0;34m)\u001b[0m\u001b[0;34m)\u001b[0m\u001b[0;34m\u001b[0m\u001b[0;34m\u001b[0m\u001b[0m\n\u001b[1;32m      3\u001b[0m \u001b[0;31m# attempt to query an element which is not present in the list\u001b[0m\u001b[0;34m\u001b[0m\u001b[0;34m\u001b[0m\u001b[0;34m\u001b[0m\u001b[0m\n\u001b[0;32m----> 4\u001b[0;31m \u001b[0mprint\u001b[0m\u001b[0;34m(\u001b[0m\u001b[0mcities\u001b[0m\u001b[0;34m.\u001b[0m\u001b[0mindex\u001b[0m\u001b[0;34m(\u001b[0m\u001b[0;34m\"Munich\"\u001b[0m\u001b[0;34m)\u001b[0m\u001b[0;34m)\u001b[0m\u001b[0;34m\u001b[0m\u001b[0;34m\u001b[0m\u001b[0m\n\u001b[0m",
      "\u001b[0;31mValueError\u001b[0m: 'Munich' is not in list"
     ]
    }
   ],
   "source": [
    "# query an element which is present in the list\n",
    "print(cities.index(\"Rostock\"))\n",
    "# attempt to query an element which is not present in the list\n",
    "# leads to a ValueError exception\n",
    "print(cities.index(\"Munich\"))"
   ]
  },
  {
   "cell_type": "markdown",
   "metadata": {},
   "source": [
    "<font size=\"3\"><b>An lists can be extended or concatenated:</b></font>"
   ]
  },
  {
   "cell_type": "code",
   "execution_count": 74,
   "metadata": {},
   "outputs": [
    {
     "name": "stdout",
     "output_type": "stream",
     "text": [
      "Extended list:\n",
      "['Greifswald', 'Berlin', 'Hamburg', 'Hanover', 'Paris', 'New York', 'Moscow', 'Tokyo', 'Sao Paolo']\n"
     ]
    }
   ],
   "source": [
    "cities  = ['Greifswald', 'Berlin', 'Hamburg', 'Hanover']         # Definition of a list\n",
    "cities2 = ['Paris', \"New York\", \"Moscow\", \"Tokyo\", \"Sao Paolo\"]   # Definition of another list\n",
    "cities.extend(cities2)\n",
    "\n",
    "print(\"Extended list:\")\n",
    "print(cities)"
   ]
  },
  {
   "cell_type": "markdown",
   "metadata": {},
   "source": [
    "<div class=\"alert alert-warning\"><font size = \"4\"><b>Warning:</b></font><font size=\"3\"> Note that assigning a variable to another variable does not (always) mean that an independent copy (of the object) is created, but it can be a mere reference to the original object!</div></font>\n",
    "<br>\n",
    "<font size=\"3\">\n",
    "    <b>This circumstance is illustrated with the following example using lists:</b>\n",
    "</font>"
   ]
  },
  {
   "cell_type": "code",
   "execution_count": 73,
   "metadata": {},
   "outputs": [
    {
     "name": "stdout",
     "output_type": "stream",
     "text": [
      "cities = ['Greifswald', 'Berlin', 'Hamburg', 'Hanover', 'Paris', 'New York', 'Moscow', 'Tokyo', 'Sao Paolo']\n",
      "\n",
      "Shallow copy of / reference to cities:\n",
      "cities2 = ['Greifswald', 'Berlin', 'Hamburg', 'Hanover', 'Paris', 'New York', 'Moscow', 'Tokyo', 'Sao Paolo']\n",
      "\n",
      "Real (deep) copy:\n",
      "cities4 = ['Greifswald', 'Berlin', 'Hamburg', 'Hanover']\n"
     ]
    }
   ],
   "source": [
    "import copy                                                       # Imports the module copy: includes more functions\n",
    "\n",
    "cities  = ['Greifswald', 'Berlin', 'Hamburg', 'Hanover']         # Definition of a list\n",
    "cities2 = cities                                                  # cities2 falsely assumed to be a copy of cities\n",
    "\n",
    "# Real copy of cities assigned to cities4\n",
    "cities4 = copy.deepcopy(cities)                                   \n",
    "# alternatively, we can just create / instantiate a new list object to have an independent copy\n",
    "cities5 = list(cities)                                            \n",
    "\n",
    "cities3 = ['Paris', \"New York\", \"Moscow\", \"Tokyo\", \"Sao Paolo\"]   # Definition of another list\n",
    "cities.extend(cities3)                                            # Extend list cities with list cities3\n",
    "\n",
    "print(\"cities = \" + str(cities)+\"\\n\")\n",
    "\n",
    "print(\"Shallow copy of / reference to cities:\")\n",
    "print(\"cities2 = \" + str(cities2)+\"\\n\")\n",
    "\n",
    "print(\"Real (deep) copy:\")\n",
    "print(\"cities4 = \" + str(cities4))"
   ]
  },
  {
   "cell_type": "markdown",
   "metadata": {},
   "source": [
    "<font size=\"3\">\n",
    "    Although the list method <b><i>extend()</i></b> was invoked on <i>cities</i>, both, <i>cities</i> and <i>cities2</i> have the same content in the end.<br>\n",
    "<b>That's because <i>cities2</i> is not a full, but just a shallow copy / reference to the original object <i>cities</i>!</b><br><br>\n",
    "    <b>So beware of this pitfall in your future Python programming career!</b>\n",
    "</font>"
   ]
  },
  {
   "cell_type": "markdown",
   "metadata": {},
   "source": [
    "## Dictionaries\n",
    "<br>\n",
    "<font size=\"3\">\n",
    "    A dictionary in Python is a so-called <b>associative array</b> or <b>key-value mapping</b>. In contrast to the list data type in Python, <b>the dictionary has</b> no numerical index, but <b>a set of unique strings</b>, called <b><i>keys</i></b> here, <b>to address its elements</b>. This circumstance is illustrated below:\n",
    "</font>\n",
    "<center>\n",
    "<img src=\"img/python_dicts2.png\" width=\"66%\">\n",
    "</center>\n",
    "<font size=\"2\"><i>Source: <a href=\"https://www.faceprep.in/python/python-nested-dictionaries/\">https://www.faceprep.in/python/python-nested-dictionaries/</a></i></font>\n",
    "<br>\n",
    "<br>\n",
    "<font size=\"3\">Each element of the dictionary has its own, unique key. Like tuples or lists, <b>dictionaries are mutable and dynamic</b>, hence their elements and the size of the dictionary are changeable during runtime. Of course, dictionaries can be also arbitrarily nested.<br>\n",
    "<ul>\n",
    "    <li> <b>A dictionary is initialized using braces {}, following the convention {key : value, key2 : value2, ...} or using the dict constructor dict(key = value, key2 = value2, ...).</b></li>\n",
    "    <li><b>Dictionary elements are addressed with unique keys (strings).</b></li>\n",
    "    <li><b>Multiple existing keys can be updated (effectively replaced) using the dict method <i>update()</i>.</b></li>\n",
    "    <li><b>Keys can be deleted using the dict method <i>pop()</i> or the builtin function <i>del</i>.</b></li>\n",
    "    <li><b>The dictionary can be deep copied using the dict method <i>copy()</i>.</b></li>\n",
    "    <li><b>The dict method <i>keys()</i> yields a list of the dictionary keys.</b></li>\n",
    "    </ul>\n",
    "</font>\n",
    "\n",
    "### Example:"
   ]
  },
  {
   "cell_type": "code",
   "execution_count": 89,
   "metadata": {},
   "outputs": [
    {
     "name": "stdout",
     "output_type": "stream",
     "text": [
      "The content of the dictionary shoppping_list:\n",
      "{'vegetables': ['paprikas', 'carrots'], 'fruits': ['apples', 'bananas', 'cherries'], 'diary': ['milk', 'butter', 'yoghurt']}\n",
      "\n",
      "\n",
      "Changed dict:\n",
      "{'vegetables': ['paprikas', 'carrots', 'celery'], 'fruits': ['maracuja', 'papaya']}\n",
      "Dictionary keys:\n",
      "<class 'dict_keys'>\n",
      "dict_keys(['vegetables', 'fruits'])\n",
      "['vegetables', 'fruits']\n"
     ]
    }
   ],
   "source": [
    "vegetables_list = [\"paprikas\", \"carrots\"]\n",
    "fruits_list     = [\"apples\", \"bananas\", \"cherries\"]\n",
    "diary_list      = [\"milk\", \"butter\", \"yoghurt\"]\n",
    "\n",
    "# Definition of the dictionary\n",
    "shopping_list = {'vegetables' : vegetables_list, 'fruits' : fruits_list, 'diary' : diary_list}\n",
    "\n",
    "# Output original dictionary\n",
    "print(\"The content of the dictionary shoppping_list:\")\n",
    "print(shopping_list)\n",
    "print(\"\\n\")\n",
    "\n",
    "# Adds a new item to the vegetable list\n",
    "shopping_list[\"vegetables\"].append(\"celery\")\n",
    "\n",
    "# Removes item\n",
    "shopping_list.pop(\"diary\")     #or alternatively to delete single element: del shopping_list[\"diary\"]\n",
    "\n",
    "# Updates entry for key \"fruits\"\n",
    "shopping_list.update({\"fruits\" : [\"maracuja\", \"papaya\"]}) #or alternatively: shopping_list[\"fruits\"] = [\"maracuja\", \"papaya\"]\n",
    "\n",
    "# Output changed dictionary\n",
    "print(\"Changed dict:\")\n",
    "print(shopping_list)\n",
    "\n",
    "# Output dict keys\n",
    "print(\"Dictionary keys:\")\n",
    "# Note that the method keys() yields a dict_keys object, but can be treated as list\n",
    "print(type(shopping_list.keys()))   \n",
    "print(shopping_list.keys())\n",
    "print(list(shopping_list.keys()))"
   ]
  },
  {
   "cell_type": "markdown",
   "metadata": {},
   "source": [
    "<font size=\"3\"><div class=\"alert alert-warning\"><b>Exercise:</b> <br> Define a data structure to store the information of the following table:<br>\n",
    "    \n",
    "| Name | Surname | Age |\n",
    "| ---- | ------- | --- |\n",
    "| Rosalind | Franklin | 100 |\n",
    "| Jane | Doe     | 41  |\n",
    "| John | Doe     | 44  |\n",
    "| Albert | Einstein | 141 |\n",
    "| Marie | Curie | 153 |\n",
    "\n",
    "</div>\n",
    "    \n",
    "\n",
    " \n",
    "<b>Try it yourself:</b></font>"
   ]
  },
  {
   "cell_type": "code",
   "execution_count": null,
   "metadata": {},
   "outputs": [],
   "source": []
  },
  {
   "cell_type": "markdown",
   "metadata": {},
   "source": [
    "### Example Solution 1 (column-wise):"
   ]
  },
  {
   "cell_type": "code",
   "execution_count": 92,
   "metadata": {},
   "outputs": [
    {
     "name": "stdout",
     "output_type": "stream",
     "text": [
      "{'Name': ['Rosalind', 'Jane', 'John', 'Albert', 'Marie'], 'Surname': ['Franklin', 'Doe', 'Doe', 'Einstein', 'Curie'], 'Age': [100, 41, 44, 141, 153]}\n"
     ]
    }
   ],
   "source": [
    "table = {\"Name\" : [\"Rosalind\", \"Jane\", \"John\", \"Albert\", \"Marie\"], \n",
    "         \"Surname\" : [\"Franklin\", \"Doe\", \"Doe\", \"Einstein\", \"Curie\"],\n",
    "         \"Age\" : [100, 41, 44, 141, 153]}\n",
    "print(table)"
   ]
  },
  {
   "cell_type": "markdown",
   "metadata": {},
   "source": [
    "### Example Solution 2 (row-wise):"
   ]
  },
  {
   "cell_type": "code",
   "execution_count": 93,
   "metadata": {},
   "outputs": [
    {
     "name": "stdout",
     "output_type": "stream",
     "text": [
      "[{'Name': 'Rosalind', 'Surname': 'Franklin', 'Age': 100}, {'Name': 'Jane', 'Surname': 'Doe', 'Age': 41}, {'Name': 'John', 'Surname': 'Doe', 'Age': 41}, {'Name': 'Albert', 'Surname': 'Einstein', 'Age': 141}, {'Name': 'Marie', 'Surname': 'Curie', 'Age': 153}]\n"
     ]
    }
   ],
   "source": [
    "table = []\n",
    "table.append({\"Name\" : \"Rosalind\", \"Surname\" : \"Franklin\", \"Age\" : 100})\n",
    "table.append({\"Name\" : \"Jane\", \"Surname\" : \"Doe\", \"Age\" : 41})\n",
    "table.append({\"Name\" : \"John\", \"Surname\" : \"Doe\", \"Age\" : 41})\n",
    "table.append({\"Name\" : \"Albert\", \"Surname\" : \"Einstein\", \"Age\" : 141})\n",
    "table.append({\"Name\" : \"Marie\", \"Surname\" : \"Curie\", \"Age\" : 153})\n",
    "print(table)"
   ]
  },
  {
   "cell_type": "markdown",
   "metadata": {},
   "source": [
    "<div class=\"alert alert-info\"><font size = \"3\"><b>Info:</b></font><font size=\"3\"> As you'll see later there are more elegant and efficient solutions to handle data in tables than dictionaries, like named arrays in the package numpy or even better DataFrames in the popular package pandas.</div></font>\n"
   ]
  },
  {
   "cell_type": "markdown",
   "metadata": {},
   "source": [
    "# Control Flow Structures\n",
    "<br>\n",
    "<font size=\"3\">\n",
    "Control flow structures are the most important tool in any programming language, since they allow for the implementation of a control logic which constitutes the algorithm and together with the data the program itself. The figure below shows an exemplaric flow diagram of a program:\n",
    "</font>\n",
    "<center>\n",
    "<img src=\"img/trump-flowchart.jpg\" width=\"80%\">\n",
    "</center>\n",
    "<font size=\"2\"><i>Source: <a href=\"https://www.liberalforum.org/topic/231679-flow-chart/\">https://www.liberalforum.org/topic/231679-flow-chart/</a></i></font>\n",
    "<br>\n",
    "<br>\n",
    "<font size=\"3\">\n",
    "Beginning from the start (green), a condition is verified at every branch of the flow diagram whose result determines the progress of the program till its end state (red). A flow chart is the representation of a finite state machine. As in all programming languages, <b>there is the if..elif...else-clause in Python to control the program flow.</b>\n",
    "</font>\n",
    "<br>\n",
    "<br>\n",
    "\n",
    "## Conditional Execution\n",
    "<br>\n",
    "<font size=\"3\">\n",
    "In Python, the if...elif...else construction allows to implement a distinction of multiple, nested conditions at a time to steer the program flow.<br><br><b>A valid condition is a Python expression e.g. a function call which yields a boolean or truth value (True or False).</b><br><br> In contrast to other popular programming languages where braces {} are used to seperate blocks of code (e.g. C(++)), <b>Python uses indentation with spaces or tabs to seperate code blocks</b>.<br><br>\n",
    "    <b>The syntax for the conditionally executed code block is</b><br>\n",
    "    \n",
    "`if condition:\n",
    "     ...\n",
    " elif condition2:\n",
    "     ...\n",
    " elif condition3:\n",
    "     ...\n",
    " else:\n",
    "     ...`\n",
    "\n",
    "<br>\n",
    "<br><b>Of course, we can also have nested conditionally executed code blocks with multiple indentation levels, like</b><br>\n",
    "\n",
    "`if a:\n",
    "     if b:\n",
    "         ...\n",
    "     else:\n",
    "         ...\n",
    " elif c:\n",
    "     ...\n",
    " elif d:\n",
    "     if e:\n",
    "         ...\n",
    "     elif f:\n",
    "         if g:\n",
    "             ...\n",
    "         else:\n",
    "             ...\n",
    "     else:\n",
    "         ...\n",
    " else:\n",
    "     ...`\n",
    "\n",
    "<br><b>As condition can serve any function or expression (e.g. a comparison) which yields a boolean (True / False) as result which can be combined with logic operators and / or comparisons.</b><br><br>\n",
    "<b>Valid operators for comparisons are == (equal), < (greater), > (smaller), <= (smaller or equal), >= (greater or equal) and multiple conditions can be concatenated using ~ or logic-NOT (negation), & (logic-AND) and/or | (logic-OR).</b>\n",
    "<br><br><b>The best practice is to avoid nested and prefer flat structures where possible since the code is hard to read (and to debug) otherwise.</b><br>\n",
    "</font>\n",
    "\n",
    "### Example (feel free to experiment): "
   ]
  },
  {
   "cell_type": "code",
   "execution_count": 105,
   "metadata": {},
   "outputs": [
    {
     "name": "stdout",
     "output_type": "stream",
     "text": [
      "x is positive and greater than zero!\n"
     ]
    }
   ],
   "source": [
    "x = 3.141\n",
    "# distinction of three cases\n",
    "# IMPORTANT: code block of first matching condition is executed!\n",
    "if x == 42:\n",
    "    print(\"Thanks for all the fish.\")\n",
    "elif x >= 0:\n",
    "    print(\"x is positive and greater than zero!\")\n",
    "else:\n",
    "    print(\"x is negative!\")\n",
    "    \n",
    "# concatenation of multiple conditions is also possible\n",
    "if (x > 2)&(x <= 3):\n",
    "    print(\"x is in the interval (2,3].\")"
   ]
  },
  {
   "cell_type": "markdown",
   "metadata": {},
   "source": [
    "### Example (feel free to experiment):"
   ]
  },
  {
   "cell_type": "code",
   "execution_count": 227,
   "metadata": {},
   "outputs": [
    {
     "name": "stdout",
     "output_type": "stream",
     "text": [
      "You still have some milk !\n",
      "Best, your fridge\n"
     ]
    }
   ],
   "source": [
    "to_buy = \"milk\"\n",
    "fridge_content = [\"milk\", \"salami\", \"butter\", \"marmalade\"]\n",
    "\n",
    "if not (to_buy in fridge_content):\n",
    "    print(\"You should buy \" + to_buy + \" !\")\n",
    "else:\n",
    "    print(\"You still have some \" + to_buy + \" !\")\n",
    "print(\"Best, your fridge\")"
   ]
  },
  {
   "cell_type": "markdown",
   "metadata": {},
   "source": [
    "<font size=\"3\"><div class=\"alert alert-warning\"><b>Exercise:</b> Implement a simplified version of the dice game \"Kniffel\". Roll two dices. Output the results for the two dices. If the two random integers are equal, additionally notify the user that he got a \"n-er Pasch\" where n stands for the random integer. Otherwise, also inform the user.<br>\n",
    "    \n",
    "<b>Hint:</b> Add the command \"import numpy as np\". Then use the function np.random.randint(1,7) to draw a random integer in the range [1,6].<br> \n",
    "\n",
    "</div>\n",
    "    \n",
    "\n",
    " \n",
    "<b>Try it yourself:</b></font>"
   ]
  },
  {
   "cell_type": "code",
   "execution_count": 226,
   "metadata": {},
   "outputs": [
    {
     "data": {
      "text/plain": [
       "3"
      ]
     },
     "execution_count": 226,
     "metadata": {},
     "output_type": "execute_result"
    }
   ],
   "source": [
    "import numpy as np\n",
    "np.random.randint(1,7)\n"
   ]
  },
  {
   "cell_type": "markdown",
   "metadata": {},
   "source": [
    "### Example Solution:"
   ]
  },
  {
   "cell_type": "code",
   "execution_count": 1,
   "metadata": {},
   "outputs": [
    {
     "name": "stdout",
     "output_type": "stream",
     "text": [
      "dice 1:3\n",
      "dice 2:2\n",
      "Unfortunately nothing. :(\n"
     ]
    }
   ],
   "source": [
    "import numpy as np\n",
    "a=np.random.randint(1,7)\n",
    "b=np.random.randint(1,7)\n",
    "print(\"dice 1:\"+str(a))\n",
    "print(\"dice 2:\"+str(b))\n",
    "# check condition\n",
    "if not (a == b):\n",
    "    print(\"Unfortunately nothing. :(\")\n",
    "else:\n",
    "    print(\"You won a \"+str(a)+\"-er Pasch.\")"
   ]
  },
  {
   "cell_type": "markdown",
   "metadata": {},
   "source": [
    "## Loops\n",
    "<br>\n",
    "<font size=\"3\">\n",
    "Python offers two options to run a code block in a loop:\n",
    "<br>\n",
    "<ul>\n",
    "    <li>The <b>for-loop repeats</b> the enclosed code block <b> (in most simple cases) for a defined number of times.</b><br><br>This type of loop is often (but not always) used when the data set is finite and its size known before its runtime. In general, the for-loop iterates through the already-existing elements of an <a href=\"https://www.pythonlikeyoumeanit.com/Module2_EssentialsOfPython/Iterables.html\"><i>Iterable</i></a> (finite) or <a href=\"https://www.pythonlikeyoumeanit.com/Module2_EssentialsOfPython/Generators_and_Comprehensions.html\"><i>Generator</i></a> (potentially infinite since a new element is generated on demand for each iteration) object. <br><b>An <i>Iterable</i> object can be e.g. a list, tuple or dictionary.</b><br><b>A popular <i>Generator</i> object is e.g. the range generator which will be presented here.</b></li><br>\n",
    "    <li>The <b>while-loop can repeat</b> the enclosed code block <b>indefinitely as long as the condition</b> in the header <b>is not fulfilled.</b> This type of loop is often used e.g. when the program needs to wait for some event indefinitely.</li>\n",
    "</ul>\n",
    "</font>"
   ]
  },
  {
   "cell_type": "markdown",
   "metadata": {},
   "source": [
    "### For-Loops\n",
    "<br>\n",
    "<font size=\"3\">\n",
    "The syntax of a for-loop in Python is as following:<br>\n",
    "\n",
    "<b>for <i>elem</i> in <i>Iterable</i>:</b><br>\n",
    "\n",
    "    indented code block\n",
    "    \n",
    "<br>\n",
    "A very popular <i>Iterable</i> or <i>Generator</i> object is the range generator which yields integers which can be used e.g. as index to run over the elements of an array. The range generator expects <i><b>range(start, stop [, step])</b></i> three arguments to define begin, end (and step size which is optional) for list of integers. The range generates integers from start to (stop - 1).<br>\n",
    "<br>\n",
    "<b>Python has reserved keywords to be used within for-loops: break, continue</b>\n",
    "<br>\n",
    "<ul>\n",
    "    <li>break can be used to end the for-loop prematurely</li>\n",
    "    <li>continue can be used to skip the remaining code block of the current iteration</li>\n",
    "</ul>\n",
    "\n",
    "</font>"
   ]
  },
  {
   "cell_type": "markdown",
   "metadata": {},
   "source": [
    "### Example (feel free to experiment):"
   ]
  },
  {
   "cell_type": "code",
   "execution_count": 4,
   "metadata": {},
   "outputs": [
    {
     "name": "stdout",
     "output_type": "stream",
     "text": [
      "For-loop 1:\n",
      "i=0\n",
      "i=1\n",
      "i=2\n",
      "i=3\n",
      "i=4\n",
      "i=5\n",
      "i=6\n",
      "i=7\n",
      "i=8\n",
      "i=9\n",
      "For-loop 2:\n",
      "i=0\n",
      "i=2\n",
      "i=4\n",
      "i=6\n",
      "i=8\n",
      "For-loop 3:\n",
      "(i,j)=(0, 0)\n",
      "(i,j)=(0, 1)\n",
      "(i,j)=(0, 2)\n",
      "(i,j)=(0, 3)\n",
      "(i,j)=(1, 0)\n",
      "(i,j)=(1, 1)\n",
      "(i,j)=(1, 2)\n",
      "(i,j)=(1, 3)\n",
      "(i,j)=(2, 0)\n",
      "(i,j)=(2, 1)\n",
      "(i,j)=(2, 2)\n",
      "(i,j)=(2, 3)\n",
      "(i,j)=(3, 0)\n",
      "(i,j)=(3, 1)\n",
      "(i,j)=(3, 2)\n",
      "(i,j)=(3, 3)\n",
      "For-loop 4:\n",
      "We still have milk.\n",
      "We still have butter.\n",
      "We still have strawberries.\n",
      "We still have chicken.\n",
      "Best, your fridge\n",
      "For-loop 5:\n",
      "We still have ['paprika', 'fennel'] which are vegetables.\n",
      "We still have ['milk', 'butter'] which are diary products.\n",
      "vegetables = ['paprika', 'fennel']\n",
      "diary products = ['milk', 'butter']\n",
      "Best, your fridge\n"
     ]
    }
   ],
   "source": [
    "#a simple for-loop using the range generator\n",
    "print(\"For-loop 1:\")\n",
    "for i in range(0,10):\n",
    "    print(\"i=\" + str(i))\n",
    "\n",
    "#a simple for-loop with a different step size\n",
    "print(\"For-loop 2:\")\n",
    "for i in range(0,10,2):\n",
    "    print(\"i=\" + str(i))\n",
    "    \n",
    "#nested for-loops (which should be avoided for performance reasons, if possible)\n",
    "print(\"For-loop 3:\")\n",
    "for i in range(0,4):\n",
    "    for j in range(0,4):\n",
    "        print(\"(i,j)=\" + str((i,j)))\n",
    "        \n",
    "#a for-loop running over the elements of a list\n",
    "print(\"For-loop 4:\")\n",
    "fridge_content = ['milk', 'butter', 'strawberries', 'chicken']\n",
    "for item in fridge_content:\n",
    "    print(\"We still have \" + item + \".\")\n",
    "print(\"Best, your fridge\")\n",
    "\n",
    "#a for-loop running over a dictionary\n",
    "print(\"For-loop 5:\")\n",
    "fridge_content2 = {'vegetables' : ['paprika', 'fennel'], 'diary products' : ['milk', 'butter']}\n",
    "for key in fridge_content2:\n",
    "    print(\"We still have \" + str(fridge_content2[key]) + \" which are \" + key + \".\")\n",
    "\n",
    "for value,key in fridge_content2.items():\n",
    "    print(str(value)+ \" = \" + str(key))\n",
    "    \n",
    "print(\"Best, your fridge\")"
   ]
  },
  {
   "cell_type": "markdown",
   "metadata": {},
   "source": [
    "<font size=\"3\"><div class=\"alert alert-warning\"><b>Exercise:</b> Implement a for-loop running up to an arbitrary number which outputs the number of the running variable and outputs a message whether the number is odd or even.\n",
    "    \n",
    "<b>Hint:</b> Use the <a href=\"https://en.wikipedia.org/wiki/Modulo_operation\">modulo operator</a> \"%\" giving the remainder of a divison. In particular use x % 2. In this case 2 % 2 yields 0, 1 % 2 yields 1.<br> \n",
    "\n",
    "</div>\n",
    "    \n",
    "\n",
    " \n",
    "<b>Try it yourself:</b></font>"
   ]
  },
  {
   "cell_type": "code",
   "execution_count": null,
   "metadata": {},
   "outputs": [],
   "source": []
  },
  {
   "cell_type": "markdown",
   "metadata": {},
   "source": [
    "### Example Solution:"
   ]
  },
  {
   "cell_type": "code",
   "execution_count": 2,
   "metadata": {},
   "outputs": [
    {
     "name": "stdout",
     "output_type": "stream",
     "text": [
      "0 is even.\n",
      "1 is odd.\n",
      "2 is even.\n",
      "3 is odd.\n",
      "4 is even.\n",
      "5 is odd.\n",
      "6 is even.\n",
      "7 is odd.\n",
      "8 is even.\n",
      "9 is odd.\n"
     ]
    }
   ],
   "source": [
    "n = 10\n",
    "for i in range(n):\n",
    "    if i % 2 == 0:\n",
    "        print(str(i)+\" is even.\")\n",
    "    else:\n",
    "        print(str(i)+\" is odd.\")"
   ]
  },
  {
   "cell_type": "markdown",
   "metadata": {},
   "source": [
    "### While-Loops\n",
    "<br>\n",
    "<font size=\"3\">\n",
    "While-loops can run indefinitely e.g. to wait for an event. An example for such an event loop would be the main event loop in a software application with graphical user interface where the program waits for e.g. a button to be pressed to then call a certain routine.<br><br>\n",
    "The syntax for a while-loop in Python is as following:<br>\n",
    "    <b>while <i>condition</i></b><br>\n",
    "    \n",
    "        indented code block\n",
    "        \n",
    "<b>Python has reserved a keyword to be used within while-loops: break</b>\n",
    "<br>\n",
    "<ul>\n",
    "    <li>break can be used to end the while-loop.</li>\n",
    "</ul>\n",
    "</font>\n",
    "\n",
    "### Example:"
   ]
  },
  {
   "cell_type": "code",
   "execution_count": 3,
   "metadata": {},
   "outputs": [
    {
     "name": "stdout",
     "output_type": "stream",
     "text": [
      "False\n",
      "True\n",
      "0.694622 seconds passed till 42 was randomly hit out random numbers up to 1000000.\n"
     ]
    }
   ],
   "source": [
    "import time\n",
    "import numpy as np\n",
    "#a simple while-loop generating random numbers till a certain number is hit\n",
    "match = False\n",
    "hit = 42\n",
    "upper = int(1E6)\n",
    "t1 = time.time()\n",
    "\n",
    "print(match)\n",
    "print(not match)\n",
    "\n",
    "# Condition in header of the while-loop never not fullfilled (always True)\n",
    "while not match:\n",
    "    # Compares random number with defined hit\n",
    "    if np.random.randint(0,upper) == hit:\n",
    "        # Interrupts the while-loop\n",
    "        break\n",
    "# Calculates how much time has passed\n",
    "delta_t = time.time() - t1\n",
    "# Outputs result\n",
    "print(str(np.round(delta_t,6))+\" seconds passed till \"+str(hit)+\" was randomly hit out random numbers up to \"+str(upper)+\".\")\n"
   ]
  },
  {
   "cell_type": "markdown",
   "metadata": {},
   "source": [
    "<font size=\"3\"><div class=\"alert alert-warning\"><b>Exercise:</b>Implement a ticking clock by outputting \"tick\", \"tock\" in an alternating manner. Stop the while loop after 10 iterations.\n",
    "</div>\n",
    "    \n",
    "<b>Try it yourself:</b></font>"
   ]
  },
  {
   "cell_type": "code",
   "execution_count": null,
   "metadata": {},
   "outputs": [],
   "source": []
  },
  {
   "cell_type": "markdown",
   "metadata": {},
   "source": [
    "### Example Solution:"
   ]
  },
  {
   "cell_type": "code",
   "execution_count": 4,
   "metadata": {},
   "outputs": [
    {
     "name": "stdout",
     "output_type": "stream",
     "text": [
      "tock\n",
      "tick\n",
      "tock\n",
      "tick\n",
      "tock\n",
      "tick\n",
      "tock\n",
      "tick\n",
      "tock\n",
      "tick\n",
      "tock\n",
      "tick\n",
      "tock\n",
      "tick\n",
      "tock\n",
      "tick\n",
      "tock\n",
      "tick\n",
      "tock\n",
      "tick\n",
      "tock\n"
     ]
    }
   ],
   "source": [
    "import time\n",
    "#from tqdm import tqdm\n",
    "\n",
    "n = 0\n",
    "n_max = 10\n",
    "#bar = tqdm(n_max)\n",
    "\n",
    "# alternative implementation using a condition in the header\n",
    "# of the while-loop\n",
    "while (n < n_max):\n",
    "    # in C(++) n++\n",
    "    n += 1 \n",
    "    if n % 2 == 0:\n",
    "        print(\"tick\")\n",
    "    else:\n",
    "        print(\"tock\")\n",
    "    time.sleep(1)\n",
    "    #bar.update()\n",
    "    \n",
    "n=0\n",
    "while True:\n",
    "    if n > n_max:\n",
    "        break\n",
    "    else:\n",
    "        n += 1\n",
    "    if n % 2 == 0:\n",
    "        print(\"tick\")\n",
    "    else:\n",
    "        print(\"tock\")\n",
    "    time.sleep(1)"
   ]
  },
  {
   "cell_type": "markdown",
   "metadata": {},
   "source": [
    "# Any Questions for today?\n",
    "\n",
    "## See you tomorrow!"
   ]
  }
 ],
 "metadata": {
  "celltoolbar": "Raw Cell Format",
  "kernelspec": {
   "display_name": "Python 3",
   "language": "python",
   "name": "python3"
  },
  "language_info": {
   "codemirror_mode": {
    "name": "ipython",
    "version": 3
   },
   "file_extension": ".py",
   "mimetype": "text/x-python",
   "name": "python",
   "nbconvert_exporter": "python",
   "pygments_lexer": "ipython3",
   "version": "3.8.3"
  }
 },
 "nbformat": 4,
 "nbformat_minor": 2
}
