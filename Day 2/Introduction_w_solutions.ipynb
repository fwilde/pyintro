{
 "cells": [
  {
   "cell_type": "markdown",
   "metadata": {},
   "source": [
    "### Fabian Wilde, University of Greifswald\n",
    "# Introduction to Python  - Day 2 / 2 - Wednesday 7.10.2020\n",
    "\n",
    "## Overview\n",
    "\n",
    "<font size=\"3\">\n",
    "<br>\n",
    "In the today's session on the 7th October 2020, you're going to learn about\n",
    "<ul>\n",
    "    <li><b>functions with variable arguments and the asterisk to unpack them</b></li>\n",
    "    <li><b>anonymous or lambda functions</b></li>\n",
    "    <li><b>list comprehensions and maps</b></li>\n",
    "    <li><b>how to import modules and namespaces</b></li>\n",
    "    <li><b>proper variable naming and documentation with comments</b></li>\n",
    "    <li><b>how to run your code from the command-line and handling of command-line arguments</b></li>\n",
    "    <li><b>reading data from files, like CSV, Excel sheets and batch processing in a folder</b></li>\n",
    "    <li><b>visualizing your data with matplotlib and how to create plots for your publications</b></li>\n",
    "</ul>\n",
    "</font>\n",
    "\n",
    "## User-defined Functions\n",
    "<br>\n",
    "<font size=\"3\">\n",
    "As your code grows bigger and some parts of the code may repeat in it, you'd need to structure it (since you'd also like to avoid <a href=\"https://en.wikipedia.org/wiki/Spaghetti_code\">spaghetti code</a>. This is code which is hard to follow due to various jumps within the code). The first step for cleaner code is to outsource repeating code snippets in user-defined functions. If some repeats itself for at least two times, it is already worth considering to write a function for that.<br><br>\n",
    "So structuring your code by subdividing it into functions has several advantages, like as<br>\n",
    "<ul>\n",
    "    <li><b>readability:</b> code is easier to follow by encapsulating complex code in a simple function call</li>\n",
    "    <li><b>maintainability:</b> code is easier to maintain, bugs are easier to identify and need only be fixed at one location in your code</li>\n",
    "    <li><b>portability:</b> parts of your code can be reused in other projects more easily</li>\n",
    "</ul>\n",
    "<br>\n",
    "<b>User-defined functions in Python are defined as follows</b><br>\n",
    "<ul>\n",
    "    <li><b>with a fixed number of mandatory arguments:</b><br>\n",
    "        def <i>function_name</i>(<b>arg1, arg2, arg3, ...</b>):<br>\n",
    "    <p style=\"margin-left: 40px\"><font face=\"Courier\">indented code block</font></p>\n",
    "    <p style=\"margin-left: 40px\">return <i>value</i></p>\n",
    "    </li>\n",
    "    <br>\n",
    "    <li><b>with a fixed number of arguments, but some have a default value (and are hence not mandatory):</b><br>\n",
    "        def <i>function_name</i>(<b>arg1, arg2, arg3 = True, arg4 = 1</b>):<br>\n",
    "    <p style=\"margin-left: 40px\"><font face=\"Courier\">indented code block</font></p>\n",
    "    <p style=\"margin-left: 40px\">return <i>value</i></p>\n",
    "    </li>\n",
    "    <br>\n",
    "    <li>\n",
    "    <b>with a variable number of arguments:</b><br>\n",
    "        def <i>function_name</i>(<b>*args</b>):<br>\n",
    "    <p style=\"margin-left: 40px\"><font face=\"Courier\">indented code block</font></p>\n",
    "    <p style=\"margin-left: 40px\">return <i>value</i></p>\n",
    "    <br>\n",
    "        <b>The variable name <i>args</i>, a tuple of the function arguments, is used in the function definition.</b> <br><br>\n",
    "        <b>The asterisk (*) unpacks a tuple to positional arguments for a function call.</b><br>\n",
    "        <b>It can be only used within function calls or in assignments.</b>\n",
    "    </li>\n",
    "    <br>\n",
    "    <li>\n",
    "    <b>with a variable number of keyword-arguments:</b><br>\n",
    "        def <i>function_name</i>(<b>**kwargs</b>):<br>\n",
    "    <p style=\"margin-left: 40px\"><font face=\"Courier\">indented code block</font></p>\n",
    "    <p style=\"margin-left: 40px\">return <i>value</i></p>\n",
    "    </li>\n",
    "    <br>\n",
    "            <b>The variable name <i>kwargs</i>, a dict of the keyword arguments of the function, is used in the function definition.</b> <br><br>\n",
    "        <b>The double asterisk (**) unpacks a dict to keyword arguments for a function call.</b><br>\n",
    "        <b>It can be only used within function calls or in assigments.</b>\n",
    "    <br>\n",
    "    <br>\n",
    "    <li>\n",
    "    <b>with variable numer of arguments and variable number of keyword arguments:</b><br>\n",
    "        def <i>function_name</i>(<b>*args **kwargs</b>):<br>\n",
    "    <p style=\"margin-left: 40px\"><font face=\"Courier\">indented code block</font></p>\n",
    "    <p style=\"margin-left: 40px\">return <i>value</i></p>\n",
    "    </li>\n",
    "</ul>\n",
    "<br>\n",
    "    The indented code block <b>has to end</b> in all cases <b>with a <i>return</i> statement</b> where the function does not need to return a value. If left blank, the function returns a <i>NoneType</i> (None) object.\n",
    "\n",
    "### An important advantage of encapsulating your code in functions is that the scope (the environment where the variable is valid and accessible) is limited to the code block enclosed by your function definition!\n",
    "\n",
    "</font>\n",
    "   \n",
    "### Examples #1 of functions with fixed number of arguments:"
   ]
  },
  {
   "cell_type": "code",
   "execution_count": 3,
   "metadata": {},
   "outputs": [
    {
     "name": "stdout",
     "output_type": "stream",
     "text": [
      "foo(1,2,3)=9\n",
      "foo(2.12,8,123)=1244.7600000000002\n",
      "Guten Tag, Jane Doe\n",
      "Bom dìa, John Doe\n",
      "Bonjour, Pièrre Fromage\n",
      "Здравствуйте, Dima Durak\n",
      "Hello, World \n",
      "Invalid language given.\n"
     ]
    }
   ],
   "source": [
    "# an example for a function with a defined number of arguments\n",
    "def foo(a, b, c):\n",
    "    return c * (a + b)\n",
    "\n",
    "print(\"foo(1,2,3)=\"+str(foo(1,2,3)))\n",
    "print(\"foo(2.12,8,123)=\"+str(foo(2.12,8,123)))\n",
    "\n",
    "# an example for a function with a defined number of arguments\n",
    "# a function can also have multiple return statements\n",
    "def greetings(name, surname, language):\n",
    "    sentences = {'german' : 'Guten Tag', 'english' : 'Hello', 'portuguese' : 'Bom dìa', 'french' : 'Bonjour', 'russian' : 'Здравствуйте'}\n",
    "    # check if language keyword exists in the keys of the dictionary 'sentences'\n",
    "    if not language in sentences.keys():\n",
    "        print(\"Invalid language given.\")\n",
    "        return\n",
    "    # assemble and print output string\n",
    "    print(sentences[language] + \", \" + name + \" \" + surname)\n",
    "    return\n",
    "\n",
    "#call / invoke the function greetings with different parameters\n",
    "greetings(\"Jane\", \"Doe\", \"german\")\n",
    "greetings(\"John\", \"Doe\", \"portuguese\")\n",
    "greetings(\"Pièrre\", \"Fromage\", \"french\")\n",
    "greetings(\"Dima\", \"Durak\", \"russian\")\n",
    "greetings(\"World\", \"\", \"english\")\n",
    "greetings(\"World\", \"\", \"klingon\")\n",
    "\n",
    "# using the reserved keyword pass, you can also define function prototypes (empty functions)\n",
    "# this is used e.g. in the definition of abstract classes where the class methods are overloaded (overwritten)\n",
    "def prototype(a, b, c):\n",
    "    pass"
   ]
  },
  {
   "cell_type": "markdown",
   "metadata": {},
   "source": [
    "<font size=\"3\">\n",
    "    Having a look at the class of the object <i>greetings</i>, we in fact obtain\n",
    "</font>"
   ]
  },
  {
   "cell_type": "code",
   "execution_count": 25,
   "metadata": {},
   "outputs": [
    {
     "name": "stdout",
     "output_type": "stream",
     "text": [
      "<class 'function'>\n",
      "True\n"
     ]
    }
   ],
   "source": [
    "print(type(greetings))       # print data type or class of object\n",
    "print(callable(greetings))   # check if object is callable, hence if object is a function handle"
   ]
  },
  {
   "cell_type": "markdown",
   "metadata": {},
   "source": [
    "<font size=\"3\">\n",
    "    a function or an object of the class \"function\". <b>The builtin function <i>callable()</i> checks if a variable contains or is a callable object, hence a reference to a function which can be invoked.</b><br><br>\n",
    "\n",
    "<b>The concept of the scope of a variable can be easily demonstrated with the following example:</b>\n",
    "</font>"
   ]
  },
  {
   "cell_type": "code",
   "execution_count": 142,
   "metadata": {},
   "outputs": [
    {
     "name": "stdout",
     "output_type": "stream",
     "text": [
      "var3=1\n",
      "True\n"
     ]
    },
    {
     "ename": "NameError",
     "evalue": "name 'var3' is not defined",
     "output_type": "error",
     "traceback": [
      "\u001b[0;31m---------------------------------------------------------------------------\u001b[0m",
      "\u001b[0;31mNameError\u001b[0m                                 Traceback (most recent call last)",
      "\u001b[0;32m<ipython-input-142-f9ed3b018f4d>\u001b[0m in \u001b[0;36m<module>\u001b[0;34m\u001b[0m\n\u001b[1;32m      7\u001b[0m \u001b[0;34m\u001b[0m\u001b[0m\n\u001b[1;32m      8\u001b[0m \u001b[0mprint\u001b[0m\u001b[0;34m(\u001b[0m\u001b[0mtest\u001b[0m\u001b[0;34m(\u001b[0m\u001b[0mvar1\u001b[0m\u001b[0;34m,\u001b[0m \u001b[0mvar2\u001b[0m\u001b[0;34m)\u001b[0m\u001b[0;34m)\u001b[0m\u001b[0;34m\u001b[0m\u001b[0;34m\u001b[0m\u001b[0m\n\u001b[0;32m----> 9\u001b[0;31m \u001b[0mprint\u001b[0m\u001b[0;34m(\u001b[0m\u001b[0mvar3\u001b[0m\u001b[0;34m)\u001b[0m\u001b[0;34m\u001b[0m\u001b[0;34m\u001b[0m\u001b[0m\n\u001b[0m",
      "\u001b[0;31mNameError\u001b[0m: name 'var3' is not defined"
     ]
    }
   ],
   "source": [
    "var1, var2 = 1, 2\n",
    "\n",
    "def test(var1, var2):\n",
    "    var3 = 1\n",
    "    print(\"var3=\"+str(var3))\n",
    "    return True\n",
    "\n",
    "print(test(var1, var2))\n",
    "print(var3)"
   ]
  },
  {
   "cell_type": "markdown",
   "metadata": {},
   "source": [
    "### Example #2 of functions with fixed number of arguments and default values (keyword arguments):"
   ]
  },
  {
   "cell_type": "code",
   "execution_count": 20,
   "metadata": {},
   "outputs": [
    {
     "name": "stdout",
     "output_type": "stream",
     "text": [
      "Hello, Jane Doe! \n",
      "You are on Earth in Milky Way in Alpha Quadrant in Universe X001A \n",
      "Hello, Jon Doe! \n",
      "You are in Greifswald in Mecklenburg-Vorpommern in Germany in Europe on Earth in Milky Way in Alpha Quadrant in Universe X001A \n",
      "Hallo, Pierre Fromage! \n",
      "Du bist in Greifswald in Mecklenburg-Vorpommern in Deutschland in Europa auf der Erde in der Milchstrasse im Alpha Quadrant im Universum X001A \n"
     ]
    }
   ],
   "source": [
    "# an example for a function with fixed number of arguments with default values\n",
    "def print_location(name, start_res = \"Earth\", language = \"english\"):\n",
    "    \n",
    "    # you can insert a line break in a very long line of code with a backslash\n",
    "    locations_en = ['Greifswald', 'Mecklenburg-Vorpommern', 'Germany', 'Europe', \\\n",
    "                    \"Earth\", \"Milky Way\", \"Alpha Quadrant\", \"Universe X001A\"]\n",
    "    locations_de = ['Greifswald', 'Mecklenburg-Vorpommern', 'Deutschland', 'Europa', \\\n",
    "                    \"Erde\", \"Milchstrasse\", \"Alpha Quadrant\", \"Universum X001A\"]\n",
    "    language_str = {'english':{'locations' : locations_en,\\\n",
    "                    'phrase' : ['Hello', 'You are','in','in','in','in','on','in','in','in']},\\\n",
    "                    'german': {'locations' : locations_de, \\\n",
    "                    'phrase' : ['Hallo', 'Du bist', 'in', 'in', 'in', 'in', 'auf der', 'in der', 'im', 'im']}}\n",
    "    \n",
    "    # gets list with available languages\n",
    "    avail_languages = language_str.keys()\n",
    "    \n",
    "    # throws an error if given language keyword is not included\n",
    "    if not (language in avail_languages):\n",
    "        raise KeyError(\"Invalid language keyword.\")\n",
    "    \n",
    "    # throws an error if given start is not included\n",
    "    if not (start_res in language_str[language]['locations']):\n",
    "        raise ValueError(\"Wrong location resolution level.\")\n",
    "    else:\n",
    "        start_index = language_str[language][\"locations\"].index(start_res)\n",
    "        \n",
    "    # assemble string\n",
    "    out_str = language_str[language]['phrase'][0] + \", \" + name + \"! \\n\"\n",
    "    out_str += language_str[language]['phrase'][1] + \" \"\n",
    "    for i in range(start_index,len(language_str[language][\"locations\"])):\n",
    "        out_str += language_str[language]['phrase'][i+2] + \" \" + language_str[language]['locations'][i] + \" \"\n",
    "    # print string\n",
    "    print(out_str)\n",
    "        \n",
    "print_location(\"Jane Doe\")\n",
    "print_location(\"Jon Doe\", start_res = \"Greifswald\")\n",
    "print_location(\"Pierre Fromage\", start_res = \"Greifswald\", language = \"german\")"
   ]
  },
  {
   "cell_type": "markdown",
   "metadata": {},
   "source": [
    "### Examples #3 of functions with variable number of arguments:"
   ]
  },
  {
   "cell_type": "code",
   "execution_count": 129,
   "metadata": {},
   "outputs": [
    {
     "name": "stdout",
     "output_type": "stream",
     "text": [
      "type(args) = <class 'tuple'>\n",
      "calc_sum(*(1, 2, 3)) = 6\n",
      "type(args) = <class 'tuple'>\n",
      "calc_sum(1, 2, 3) = 6\n",
      "type(args) = <class 'tuple'>\n",
      "calc_sum(8, 9, 11, 5) = 33\n",
      "rand_tuple = (9, 2, 1, 3, 4)\n",
      "type(args) = <class 'tuple'>\n",
      "calc_sum(*rand_tuple) = 19\n"
     ]
    }
   ],
   "source": [
    "# an example for a function definition with a variable number of function arguments\n",
    "def calc_sum(*args):\n",
    "    # inside the function, args is a tuple\n",
    "    print(\"type(args) = \"+str(type(args)))\n",
    "    result = 0\n",
    "    for elem in args:\n",
    "        result += elem\n",
    "    return result\n",
    "\n",
    "print(\"calc_sum(*(1, 2, 3)) = \"+str(calc_sum(*(1,2,3))))  # the function call\n",
    "print(\"calc_sum(1, 2, 3) = \"+str(calc_sum(1,2,3)))        # is equivalent to\n",
    "print(\"calc_sum(8, 9, 11, 5) = \"+str(calc_sum(8, 9, 11, 5)))        # a different number of arguments can be used\n",
    "\n",
    "import numpy as np\n",
    "rand_len = np.random.randint(1,10)\n",
    "rand_tuple = tuple(np.random.randint(0,10,(rand_len,)))  # but the argument can be a tuple of arbitrary length\n",
    "print(\"rand_tuple = \"+str(rand_tuple))\n",
    "print(\"calc_sum(*rand_tuple) = \"+str(calc_sum(*rand_tuple)))"
   ]
  },
  {
   "cell_type": "markdown",
   "metadata": {},
   "source": [
    "### Example #4 of functions with variable number of keyword arguments:"
   ]
  },
  {
   "cell_type": "code",
   "execution_count": 138,
   "metadata": {},
   "outputs": [
    {
     "name": "stdout",
     "output_type": "stream",
     "text": [
      "type(kwargs) = <class 'dict'>\n",
      "The molecule  is unknown.\n",
      "type(kwargs) = <class 'dict'>\n",
      "The molecule C2H5OH is known as ethanol.\n"
     ]
    }
   ],
   "source": [
    "# an example for a function definition with a variable number of keyword arguments\n",
    "def get_molecule_name(**kwargs):\n",
    "    # inside the function, kwargs is a dict\n",
    "    print(\"type(kwargs) = \"+str(type(kwargs)))\n",
    "    \n",
    "    molecules = {'H2O' : 'water', 'C2H5OH' : 'ethanol', 'CH3OH' : 'methanol'}\n",
    "    \n",
    "    # assemble string\n",
    "    out_str = ''\n",
    "    for key in kwargs.keys():\n",
    "        if kwargs[key] == 1:\n",
    "            out_str += key\n",
    "        else:\n",
    "            out_str += key + str(kwargs[key])\n",
    "    \n",
    "    if out_str in molecules.keys():\n",
    "        print(\"The molecule \"+out_str+\" is known as \"+molecules[out_str]+\".\")\n",
    "    else:\n",
    "        print(\"The molecule \"+out_str+\" is unknown.\")\n",
    "\n",
    "get_molecule_name(**{})\n",
    "get_molecule_name(**{'C':2,'H':5,'OH':1})"
   ]
  },
  {
   "cell_type": "markdown",
   "metadata": {},
   "source": [
    "<font size=\"3\"><div class=\"alert alert-warning\"><b>Exercise:</b> Define a function named <i>compute</i> using a variable number of arguments (args) and a keyword argument named <i>operation</i> expecting one of the following strings: \"add\", \"subtract\", \"multiply\", \"divide\".<br><br> The function should then add/subtract/multiply/divide the numbers given by the preceding arguments. The computation should be performed pairwise e.g. first add <i>argument1 </i> and <i>argument2</i>. Then add to the result <i>argument3</i>. Then add to the result <i>argument4</i> etc... Repeat for all arguments. <br> </div>\n",
    "    \n",
    "<b>Try it yourself:</b></font>"
   ]
  },
  {
   "cell_type": "code",
   "execution_count": null,
   "metadata": {},
   "outputs": [],
   "source": []
  },
  {
   "cell_type": "markdown",
   "metadata": {},
   "source": [
    "### Example Solution:"
   ]
  },
  {
   "cell_type": "code",
   "execution_count": null,
   "metadata": {},
   "outputs": [],
   "source": [
    "def compute(*args, method = \"add\"):\n",
    "    result = args[0]\n",
    "    if method == \"add\":\n",
    "        for i in range(1,len(args)):\n",
    "            result += args[i]\n",
    "    elif method == \"subtract\":\n",
    "        for i in range(1,len(args)):\n",
    "            result -= args[i]\n",
    "    elif method == \"multiply\":\n",
    "        for i in range(1,len(args)):\n",
    "            result *= args[i]\n",
    "    elif method == \"divide\":\n",
    "        for i in range(1,len(args)):\n",
    "            result /= args[i]\n",
    "    else:\n",
    "        print(\"Invalid method.\")\n",
    "        return\n",
    "    return result\n",
    "\n",
    "import operator as op\n",
    "#shorter\n",
    "def compute(*args, method = \"add\"):\n",
    "    result = args[0]\n",
    "    ops = {'add':op.add,'subtract':op.sub,'divide': lambda x,y: x / y,'multiply':op.mul}\n",
    "    \n",
    "    if not method in ops.keys():\n",
    "        raise KeyError(\"Invalid method.\")\n",
    "   \n",
    "    for i in range(1,len(args)):\n",
    "        result = ops[method](result, args[i])\n",
    "  \n",
    "    return result\n",
    "\n",
    "numbers = (1,2,3)\n",
    "compute(*numbers, method=\"add\")\n",
    "compute(1,2,3, method=\"add\")\n",
    "compute(1,2,3, method=\"subtract\")\n",
    "compute(1,2,3, method=\"divide\")\n",
    "compute(1,2,3, method=\"multiply\")"
   ]
  },
  {
   "cell_type": "markdown",
   "metadata": {},
   "source": [
    "## Lambda Functions (anonymous functions)\n",
    "<br>\n",
    "<font size=\"3\">\n",
    "The so-called <i>Lambda functions</i> or <i>anonymous functions</i> allow the definition of functions in one line of Python. Since they have no name assigned, they are also called anonymous.<br><br>\n",
    "<b>A lambda function in Python can be defined as follows</b><br><br>\n",
    "<b>var = lambda arg1, arg2, ..., arg_n : <font face=\"Courier\"> Do something with the args</font></b><br><br>\n",
    "    where <i><b>var</b></i> is then equivalent to<br><br>\n",
    "<b>def var(arg1, arg2, ..., arg_n):</b><br>\n",
    "    <p style=\"margin-left: 40px\"><font face=\"Courier\">indented code block</font></p>\n",
    "    <p style=\"margin-left: 40px\"><b>return <i>return_value</i></b></p>\n",
    "<br><br>\n",
    "    <b>and var is an object of <i>class 'function'</i></b>.\n",
    "</font>\n",
    "\n",
    "### Examples:"
   ]
  },
  {
   "cell_type": "code",
   "execution_count": 10,
   "metadata": {},
   "outputs": [
    {
     "name": "stdout",
     "output_type": "stream",
     "text": [
      "fun1(1)=2\n",
      "<class 'function'>\n",
      "True\n",
      "fun2(1, 2)=4\n",
      "fun3(1, 2, fun1)=4\n"
     ]
    }
   ],
   "source": [
    "fun1 = lambda x : x + 1               # Definition of a simple lambda/anonymous function\n",
    "print(\"fun1(1)=\"+str(fun1(1)))        # Print result of fun1(1)\n",
    "print(type(fun1))                     # Print type of fun1\n",
    "print(callable(fun1))                 # Print if fun1 is callable\n",
    "\n",
    "fun2 = lambda y, z : z + fun1(y)      # Lambda/anonymous function can have multiple arguments and can be concatenated\n",
    "print(\"fun2(1, 2)=\"+str(fun2(1, 2)))  # Print result of fun2(1,2))\n",
    "\n",
    "fun3 = lambda a, b, fun: a + fun(b)   # Lambda functions can also have other functions or callable objects as args\n",
    "print(\"fun3(1, 2, fun1)=\"+str(fun3(1, 2, fun1)))"
   ]
  },
  {
   "cell_type": "markdown",
   "metadata": {},
   "source": [
    "<font size=\"3\">\n",
    "    We see that var is in fact again an object of <i>class 'function'</i> and is a <i>callable object</i>, hence a reference to a function which can be invoked. The function can also be directly invoked after definition:\n",
    "</font>"
   ]
  },
  {
   "cell_type": "code",
   "execution_count": 15,
   "metadata": {},
   "outputs": [
    {
     "name": "stdout",
     "output_type": "stream",
     "text": [
      "2\n"
     ]
    }
   ],
   "source": [
    "print((lambda x : x + 1)(1))          # a lambda function can also be directly invoked, but this is discouraged"
   ]
  },
  {
   "cell_type": "markdown",
   "metadata": {},
   "source": [
    "<font size=\"3\">\n",
    "The typical use case for lambda functions are so-called high-order functions (functions with another callable as argument) which can be another user-defined function, another lambda function or a special <b>builtin Python function like <i>map()</i> or <i>filter()</i></b>.<br><b>These functions will be presented later in this course.</b><br><br>Lambda functions are adequate to use if only a nameless function is required (once) for a short period of time with the advantage of a shorter notation.\n",
    "</font>"
   ]
  },
  {
   "cell_type": "markdown",
   "metadata": {},
   "source": [
    "<font size=\"3\"><div class=\"alert alert-warning\"><b>Exercise:</b> Define a lambda function to compute the norm or length of a three-dimensional vector $\\mathbf{x} = (x,y,z)$ and assign it to a variable named <i>norm</i>. Then define another user-defined \"regular\" function named <i>avg_distance</i> which computes <br>    \n",
    "$\\mathrm{\\mathbf{\\overline{d}} = \\frac{1}{N} \\sum_{i=1}^{N} || \\mathbf{x} - \\mathbf{x_0} || = \\frac{1}{N} \\sum_{i=1}^{N} \\sqrt{(x - x_0)^2 + (y - y_0)^2 + (z - z_0)^2}} $\n",
    "<br><br>\n",
    "the average distance for a list of points $\\mathbf{x_n} = (x_n,y_n,z_n)$ to a reference point $\\mathbf{x_0} = (x_0, y_0, z_0)$.\n",
    "<br><br>\n",
    "<b>Extra:</b> If you want, you can generate random vectors $\\mathbf{x_n}$ with the function <a href=\"https://docs.scipy.org/doc/numpy-1.15.0/reference/generated/numpy.random.normal.html#numpy.random.normal\">numpy.random.normal</a> or <a href=\"https://docs.scipy.org/doc/numpy-1.15.0/reference/generated/numpy.random.uniform.html#numpy.random.uniform\">numpy.random.uniform</a>.\n",
    "</div>\n",
    "    \n",
    "<b>Try it yourself:</b></font>"
   ]
  },
  {
   "cell_type": "code",
   "execution_count": null,
   "metadata": {},
   "outputs": [],
   "source": []
  },
  {
   "cell_type": "markdown",
   "metadata": {},
   "source": [
    "### Example Solution:"
   ]
  },
  {
   "cell_type": "code",
   "execution_count": null,
   "metadata": {},
   "outputs": [],
   "source": [
    "import time\n",
    "import numpy as np\n",
    "\n",
    "# solution without numpy\n",
    "def avg_distance(x,x0):\n",
    "    # definition without numpy\n",
    "    norm = lambda x : (x[0]**2 + x[1]**2 + x[2]**2)**0.5\n",
    "    # definition using numpy\n",
    "    #norm = lambda x : np.sqrt(np.power(x[0],2)+np.power(x[1],2)+np.power(x[2],2))\n",
    "    # or directly using a numpy function\n",
    "    #norm = np.linalg.norm\n",
    "\n",
    "    #subtract two vectors (tuples or lists)\n",
    "    vecsub = lambda x, y: (x[0]-y[0], x[1]-y[1], x[2]-y[2])\n",
    "\n",
    "    #init variable\n",
    "    mean = 0\n",
    "    #get number of vectors\n",
    "    n = len(x)\n",
    "    #iterate over set of vectors\n",
    "    for elem in x:\n",
    "        delta = vecsub(elem, x0)\n",
    "        mean += (1/n)*norm(delta)\n",
    "\n",
    "    return mean\n",
    "\n",
    "# pure numpy solution\n",
    "def avg_distance_numpy(x, x0):\n",
    "    return np.mean(np.linalg.norm(np.subtract(x, x0), axis=1))\n",
    "\n",
    "vectors = [[0,0,0],[1,2,3],[4,5,1],[2,4,1],[7,6,4]]\n",
    "ref = [1,1,1]\n",
    "# print results\n",
    "print(\"ref=\"+str(ref))\n",
    "print(\"vectors=\"+str(vectors))\n",
    "\n",
    "#get time before\n",
    "t1 = time.time()\n",
    "print(avg_distance(vectors, ref))\n",
    "#compute time difference\n",
    "delta_t = time.time() - t1\n",
    "print(str(np.round(delta_t,6)) + \" seconds have passed.\")\n",
    "\n",
    "# define number of vectors to generate\n",
    "num_vec = int(1E6)\n",
    "# create vectors randomly, %num_vec vectors of size 3 -> shape (num_vec,3)\n",
    "vectors = np.random.normal(0,10,(num_vec,3))\n",
    "# create a single vector randomly -> shape (3,)\n",
    "ref = np.random.normal(0,10,(3,))\n",
    "\n",
    "# print results\n",
    "print(\"ref=\"+str(ref))\n",
    "print(\"vectors=\"+str(vectors[:20]))\n",
    "#get time before\n",
    "t1 = time.time()\n",
    "print(avg_distance(vectors, ref))\n",
    "#compute time difference\n",
    "delta_t = time.time() - t1\n",
    "print(str(np.round(delta_t,6)) + \" seconds have passed for the pure python solution for \"+str(num_vec)+\" vectors.\")\n",
    "\n",
    "#get time before\n",
    "t1 = time.time()\n",
    "print(avg_distance_numpy(vectors, ref))\n",
    "#compute time difference\n",
    "delta_t = time.time() - t1\n",
    "print(str(np.round(delta_t,6)) + \" seconds have passed for the pure numpy solution for \"+str(num_vec)+\" vectors.\")"
   ]
  },
  {
   "cell_type": "markdown",
   "metadata": {},
   "source": [
    "## List Comprehensions\n",
    "<br>\n",
    "<font size=\"3\">\n",
    "Very often for-loops in Python do not contain complicated code blocks. In fact, the most frequent use case is just to apply a certain function or formula to every element e.g. in a list and store the result somewhere.<br><br>\n",
    "A very elegant (and also faster way) to avoid for-loops in Python in those cases is to use so-called <a href=\"https://docs.python.org/3/tutorial/datastructures.html#list-comprehensions\"><i><b>list comprehensions</b></i></a>.<br><br>\n",
    "<b>A list comprehension in Python is defined by</b><br><br>\n",
    "<font face=\"Courier\"><b>a = [ <i>output_expression</i> for elem in x]</b></font><br><br>\n",
    "<b>where we can generate the values also conditionally</b><br><br>\n",
    "<font face=\"Courier\"><b>a = [ <i>out_expr</i> if <i>condition</i> else <i>alt_out_expr</i> for elem in x]</b><br>\n",
    "</font>\n",
    "<br>\n",
    "    where <i>out_expr</i> and <i>alt_out_expr</i> are expressions (which should include elem) to be evaluated. This could be anything from <font face=\"Courier\">1+1</font> to any function call (with the element as argument). <i>condition</i> is then a Python expression returning a boolean (True/False value) as for \"normal\" if-elif-else statements in Python.\n",
    "</font>\n",
    "\n",
    "### Examples:"
   ]
  },
  {
   "cell_type": "code",
   "execution_count": 170,
   "metadata": {},
   "outputs": [
    {
     "name": "stdout",
     "output_type": "stream",
     "text": [
      "Example 1:\n",
      "x = [0, 1, 2, 3, 4, 5, 6, 7, 8, 9]\n",
      "y = [0, 1, 4, 9, 16, 25, 36, 49, 64, 81]\n",
      "y = [0, 1, 4, 9, 16, 25, 36, 49, 64, 81]\n",
      "Example 2:\n",
      "x = [0.44244371 0.59836057 0.83851171 0.86763975 0.30562732 0.17829859\n",
      " 0.6394086  0.12704741 0.43156068 0.186199  ]\n",
      "y = [0, 1, 1, 1, 0, 0, 1, 0, 0, 0]\n"
     ]
    }
   ],
   "source": [
    "# Example 1: apply a function on each element of x \n",
    "print(\"Example 1:\")\n",
    "x = list(range(10))      # define elements to work on\n",
    "print(\"x = \"+str(x))\n",
    "\"\"\"\n",
    "The line above is equivalent to x = [0, 1, 2, 3, 4, 5, 6, 7, 8, 9].\n",
    "\n",
    "Explanation:\n",
    "The range function yields a generator (an iterable) where the new/next value is generated on-the-fly \n",
    "on each iteration. In order to get a full list of the numbers, enclose it with the list constructor,\n",
    "forcing the range generator to be executed.\n",
    "\"\"\"\n",
    "\n",
    "# function definition\n",
    "parabola = lambda x: x**2\n",
    "\n",
    "# A) classic approach with for-loop\n",
    "\n",
    "# create empty list to store the result\n",
    "y = []\n",
    "\n",
    "for elem in x:\n",
    "    # evaluates function parabola with elem as argument and adds the result to the list y\n",
    "    y.append(parabola(elem))\n",
    "print(\"y = \"+str(y))\n",
    "\n",
    "# B) shorter+faster approach with list comprehension\n",
    "\n",
    "y = [parabola(elem) for elem in x]\n",
    "print(\"y = \"+str(y))\n",
    "\n",
    "# Example 2: conditionally generate a list of values\n",
    "print(\"Example 2:\")\n",
    "# import numpy module to use numpy functions\n",
    "# it is sufficent to import it once in any cell\n",
    "import numpy as np\n",
    "# create list with 10 random values in [0, 1)\n",
    "x = np.random.uniform(0,1,(10,))\n",
    "y = [1 if elem >= 0.5 else 0 for elem in x]\n",
    "print(\"x = \"+str(x)) \n",
    "print(\"y = \"+str(y))"
   ]
  },
  {
   "cell_type": "markdown",
   "metadata": {},
   "source": [
    "<font size=\"3\">\n",
    "<b>We can also define our own generators using round brackets instead of square brackets for a list comprehension:</b>\n",
    "</font>"
   ]
  },
  {
   "cell_type": "code",
   "execution_count": 272,
   "metadata": {},
   "outputs": [
    {
     "name": "stdout",
     "output_type": "stream",
     "text": [
      "Example 3:\n",
      "x = [0.03052785 0.40963216 0.33225875 0.63230583 0.78927651 0.33721767\n",
      " 0.22329401 0.1307373  0.28464928 0.61766512]\n",
      "<generator object <genexpr> at 0x7fb531bb80a0>\n"
     ]
    }
   ],
   "source": [
    "# A list comprehension can also yield a generator when round brackets are used\n",
    "print(\"Example 3:\")\n",
    "# create list with 10 random values in [0, 1)\n",
    "x = np.random.uniform(0,1,(10,))\n",
    "print(\"x = \"+str(x)) \n",
    "y = (1 if elem >= 0.5 else 0 for elem in x)\n",
    "print(y)"
   ]
  },
  {
   "cell_type": "markdown",
   "metadata": {},
   "source": [
    "<font size=\"3\">\n",
    "In fact, y now does not contain a list with values, but yields a generator object. We still get the same result as before for the list comprehension, if the generator object is used as argument for the constructor of a list (object):\n",
    "</font>"
   ]
  },
  {
   "cell_type": "code",
   "execution_count": 312,
   "metadata": {},
   "outputs": [
    {
     "name": "stdout",
     "output_type": "stream",
     "text": [
      "y = [0, 0, 0, 1, 1, 0, 0, 0, 0, 1]\n"
     ]
    }
   ],
   "source": [
    "y = (1 if elem >= 0.5 else 0 for elem in x)\n",
    "# enclosing the generator with the constructor for a list, yields a populated list\n",
    "print(\"y = \"+str(list(y)))"
   ]
  },
  {
   "cell_type": "markdown",
   "metadata": {},
   "source": [
    "<font size=\"3\">\n",
    "The generator object lazily generates a new value at each iteration and not in advance:\n",
    "</font>"
   ]
  },
  {
   "cell_type": "code",
   "execution_count": 326,
   "metadata": {},
   "outputs": [],
   "source": [
    "#redefining the generator\n",
    "y = (1 if elem >= 0.5 else 0 for elem in x)\n",
    "iter_count = 0"
   ]
  },
  {
   "cell_type": "code",
   "execution_count": 327,
   "metadata": {},
   "outputs": [
    {
     "name": "stdout",
     "output_type": "stream",
     "text": [
      "iter:0\n",
      "0\n"
     ]
    }
   ],
   "source": [
    "# the elements of the list y are generated on-the-fly\n",
    "# the generator yields the next element by invoking the (private / hidden) method\n",
    "# of the generator object\n",
    "\n",
    "# evaluate same cell with CTRL + ENTER\n",
    "# counter increments, the generator yields a new value at each iteration\n",
    "print(\"iter:\"+str(iter_count))\n",
    "print(y.__next__())\n",
    "iter_count += 1"
   ]
  },
  {
   "cell_type": "markdown",
   "metadata": {},
   "source": [
    "<font size=\"3\"><div class=\"alert alert-warning\"><b>Exercise:</b> Generate a list of random integers and decide for each of the numbers if the number is even or odd. As output for each number, we want a string \"even\" or \"odd\". <b>Solve the problem with a list comprehension.</b><br><br>\n",
    "    <b>Hint:</b> Use the function <a href=\"https://docs.scipy.org/doc/numpy-1.15.1/reference/generated/numpy.random.randint.html\"><b>np.random.randint</b></a> to generate random integers. Prior using that function, import numpy with <i>import numpy as np</i>.\n",
    "   \n",
    "</div>\n",
    "    \n",
    "<b>Try it yourself:</b></font>"
   ]
  },
  {
   "cell_type": "code",
   "execution_count": null,
   "metadata": {},
   "outputs": [],
   "source": []
  },
  {
   "cell_type": "markdown",
   "metadata": {},
   "source": [
    "### Example Solution:"
   ]
  },
  {
   "cell_type": "code",
   "execution_count": 4,
   "metadata": {},
   "outputs": [
    {
     "name": "stdout",
     "output_type": "stream",
     "text": [
      "randints =[  8 -76  15  82 -79  98 -87 -64  57 -38]\n",
      "result =['even', 'even', 'odd', 'even', 'odd', 'even', 'odd', 'even', 'odd', 'even']\n"
     ]
    }
   ],
   "source": [
    "import numpy as np\n",
    "randints = np.random.randint(-100,100,(10,),)\n",
    "result = [\"even\" if (elem % 2 == 0) else \"odd\" for elem in randints]\n",
    "print(\"randints =\"+str(randints))\n",
    "print(\"result =\"+str(result))"
   ]
  },
  {
   "cell_type": "markdown",
   "metadata": {},
   "source": [
    "## Maps\n",
    "<br>\n",
    "<font size=\"3\">\n",
    "The builtin Python function <b><i>map()</i></b> (see e.g. <a href=\"https://docs.python.org/3/library/functions.html\">here</a>) expects a function and a list as arguments and yields a <i>map</i> object which is aswell a <i>generator</i>.\n",
    "</font>\n",
    "\n",
    "### Examples:"
   ]
  },
  {
   "cell_type": "code",
   "execution_count": 354,
   "metadata": {},
   "outputs": [
    {
     "name": "stdout",
     "output_type": "stream",
     "text": [
      "x = [32 14 19 23 58 59 46 32  6 57]\n",
      "generator = <map object at 0x7fb531bc0710>\n",
      "result = [0, 0, 1, 1, 0, 1, 0, 0, 0, 1]\n"
     ]
    }
   ],
   "source": [
    "# import the numpy module as alias np\n",
    "import numpy as np\n",
    "\n",
    "# generates random list of 10 integers\n",
    "x = np.random.randint(0, 100, (10,))\n",
    "print(\"x = \" + str(x))\n",
    "\n",
    "# use modulo 2 as function for map which yields a map object (which is also a generator)\n",
    "generator = map(lambda x: x % 2, x)\n",
    "print(\"generator = \" + str(generator))\n",
    "\n",
    "# using a generator as argument for a list (object) constructor, forces the generator to iterate over all elements\n",
    "result = list(generator)\n",
    "print(\"result = \" + str(result))"
   ]
  },
  {
   "cell_type": "markdown",
   "metadata": {},
   "source": [
    "<b>Try it yourself:</b></font>"
   ]
  },
  {
   "cell_type": "code",
   "execution_count": null,
   "metadata": {},
   "outputs": [],
   "source": []
  },
  {
   "cell_type": "markdown",
   "metadata": {},
   "source": [
    "## Importing Modules and Namespaces\n",
    "<br>\n",
    "<font size=\"3\">\n",
    "Structuring the code in functions which can be easily reused and maintained is the first step to achieve cleaner and leaner code. Nevertheless, in big Python projects, it would result in not really well readable code and collaborating on a common project would be difficult, if all the code would be in one single file. Nowadays Python projects are therefore organised in modules, allowing to distribute parts of the code over multiple files as well.<br><br> The figure below shows an exemplaric project directory structure organized in modules and submodules:<br><br>\n",
    "</font>\n",
    "<div align=\"center\">\n",
    "    <img src=\"img/absolute-import.jpg\" width=\"40%\">\n",
    "</div>\n",
    "<br>\n",
    "<font size=\"2\"><i>Source: <a href=\"https://www.geeksforgeeks.org/absolute-and-relative-imports-in-python/\">https://www.geeksforgeeks.org/absolute-and-relative-imports-in-python/</a></i></font>\n",
    "<br><br>\n",
    "<font size=\"3\">\n",
    "<b>In order to use an existing (3rd party) module in your new script or project, you need to import the module using</b><br><br>\n",
    "<b><font face=\"Courier\">import <i>module_name</i></font></b><br><br>\n",
    "<b>or define a shorter alias for the module name, if it is too long when used in the code:</b><br><br>\n",
    "<b><font face=\"Courier\">import <i>module_name</i> as <i>alias</i></font></b><br><br>\n",
    "<font size=\"3\">\n",
    "<b>You can also import a specific class or function from module:</b><br><br>\n",
    "<b><font face=\"Courier\">from <i>module_name</i> import <i>function_name</i> as <i>alias</i></b></font><br><br>\n",
    "<b>You can also further specifiy an <i>absolute path</i> to the submodule (or the file) to import a specific class or function from:</b><br><br>\n",
    "<b><font face=\"Courier\">from <i>module_name</i>.<i>submodule_name</i>.<i>file_name</i> import <i>function_name</i></font><br><br>\n",
    "</b>\n",
    "<b>Related to the project structure above, we could use the statement:</b><br><br>\n",
    "<b><font face=\"Courier\">from pkg2.subpkg1.module5 import fun3</font></b><br><br>\n",
    "    to specify an <b><i>absolute import</i></b> path. However, absolute imports are discouraged to use when the directory structure is very large.<br><br>\n",
    "<b>A relative import with respect to the project structure in the figure above may be defined using</b><br><br>\n",
    "<b><font face=\"Courier\">from .subpkg1.module5 import fun3</font></b><br><br>\n",
    "    \n",
    "The best practice in Python regarding imports can be found in the official Python style guide <a href=\"https://www.python.org/dev/peps/pep-0008/#imports\">PEP8</a>.<br> The most important best practices are:\n",
    "<ul>\n",
    "    <li>import statements should be located at the beginning of your script.</li>\n",
    "    <li>import statements should be sorted in alphabetical order for their module names.</li>\n",
    "    <li>standard library imports before 3rd party imports.</li>\n",
    "</ul>\n",
    "</font>\n",
    "\n",
    "### Examples:"
   ]
  },
  {
   "cell_type": "code",
   "execution_count": 365,
   "metadata": {},
   "outputs": [],
   "source": [
    "# standard library imports first\n",
    "# use for each import a new line\n",
    "import math\n",
    "import os\n",
    "\n",
    "# the most popular example to use numpy\n",
    "# imports numpy and sets the namespace to the alias \"np\"\n",
    "# the module content is then accessible via the alias\n",
    "import numpy as np\n",
    "\n",
    "# the most popular example to plot/visualize data\n",
    "from matplotlib import pyplot as plt\n",
    "\n",
    "# import specific class from module\n",
    "from tqdm import tqdm"
   ]
  },
  {
   "cell_type": "markdown",
   "metadata": {},
   "source": [
    "<b>Try it yourself:</b></font>"
   ]
  },
  {
   "cell_type": "code",
   "execution_count": null,
   "metadata": {},
   "outputs": [],
   "source": []
  },
  {
   "cell_type": "markdown",
   "metadata": {},
   "source": [
    "## On proper (variable) naming and documentation\n",
    "<br>\n",
    "<font size=\"3\">\n",
    "In order to write clean and well-readible code, you should comply to some best practices in Python concering variable naming and documentation which can be found in the official <a href=\"https://www.python.org/dev/peps/pep-0008/#imports\">PEP8</a> Python sytyling guide. Among those, the most important are<br>\n",
    "<ul>\n",
    "    <li>Try to choose meaningful, but short variable names describing its content, e.g. <i>velocity</i>, but better <i>v_in_kmh</i> </li><br>\n",
    "        <li>The usage of cryptic abbreviations (which are not common sense) is discouraged e.g. <i>db</i>, instead of <i>database</i> </li><br>\n",
    "    <li>Use lowercase and underscores only to have whitespace in variable names, e.g. <i>v_in_kmh</i>.</li><br>\n",
    "    <li>The use of so-called <i>camelcase</i> (hence alternating use of small and capital letters to create a seperation within a variable name) for variables is discouraged, e.g. use <i>v_in_kmh</i> instead of <i>vInKmh</i>. Camel case is used though for class names.</li><br>\n",
    "    <li>Use at least comments to document the most crucial steps in your code:</li>\n",
    "    <br>\n",
    "    <ul>\n",
    "        <li>Single-line comments start with a hash (#) character.</li>\n",
    "        <br>\n",
    "        <li>Multi-line comment blocks start and end with a triple double-quote (\"\"\") character (which strictly speaking do not exist, but are widely used).</li>\n",
    "    </ul>\n",
    "</ul>\n",
    "</font>\n",
    "\n",
    "### Examples:"
   ]
  },
  {
   "cell_type": "code",
   "execution_count": 370,
   "metadata": {},
   "outputs": [],
   "source": [
    "# This is a single-line comment\n",
    "\"\"\"\n",
    "This is a wonderful multi-line comment which could be used for a longer\n",
    "description of e.g. a function or a class (in Python they're called Docstrings)\n",
    "you have defined in your code. But it also demonstrates, that officially and strictly speaking,\n",
    "something like multi-line comments do no exist in Python. That's why it is\n",
    "interpreted as string with linebreaks. But usually, this does not cause\n",
    "any problems and would not produce any visible output when a Python script is\n",
    "run in the command-line (hence in a non-interactive way).\n",
    "\"\"\"\n",
    "\n",
    "# Example: how to document your function using a google style docstring\n",
    "def function_name(foo_int, foo_str, foo_dict):\n",
    "    \"\"\"\n",
    "    This function does a lot of things.\n",
    "    \n",
    "    Args:\n",
    "        foo_int (int): a wonderful integer number as input\n",
    "        foo_str (str): a wonderful string as input\n",
    "        foo_dict (dict): a nice dictionary as input\n",
    "        \n",
    "    Returns:\n",
    "        (bool) : a truth value indicating if everything worked\n",
    "    \"\"\"\n",
    "    pass\n",
    "    return True"
   ]
  },
  {
   "cell_type": "markdown",
   "metadata": {},
   "source": [
    "## Running your code from the command-line\n",
    "<br>\n",
    "<font size=\"3\">\n",
    "    <b>In this case, we assume that you're using Linux.</b> If you'd like to run your Python script on the command-line (which is Bash under Linux in the default case), you need to save your script first and then run it with<br><br>\n",
    "<font face=\"Courier\"><b>python <i>your_script.py</i></b></font><br><br>\n",
    "or<br><br>\n",
    "<font face=\"Courier\"><b>python3 <i>your_script.py</i></b></font><br><br>\n",
    "In case you have both, Python 2.x and Python 3.x installed on your system, make sure, you're running the right interpreter using<br><br>\n",
    "<font face=\"Courier\"><b>which python</b></font><br><br>\n",
    "which gives you the path to which the command is referring to.<br><br>\n",
    "Of course, you can also directly run your Python script on the command-line treating is it as a Bash script (a script file for the command-line), but putting e.g.<br><br>\n",
    "<font face=\"Courier\"><b>#!/usr/bin/python3</b></font><br><br>\n",
    "as first line in your Python script to tell Bash which interpreter to use for the following file content.<br><br>\n",
    "    Then, you need to make your newly created file <b>executable</b> by adding the flag <b>executable</b> e.g. with the command<br><br>\n",
    "    <font face=\"Courier\"><b>chmod u+x your_script.py</b></font><br><br>\n",
    "You can check the file permission flags in the listing of your directory using<br><br>\n",
    "    <font face=\"Courier\"><b>ls -la scripts/</b></font><br><br>\n",
    "Then you should be able to simply run your Python script as if it would be a Bash script using<br><br>\n",
    "<font face=\"Courier\"><b>./your_script.py</b></font><br><br>                                                                                               \n",
    "</font>\n",
    "\n",
    "<font size=\"3\">\n",
    "In the following examples, a special \"cell magic\" command is used, so that bash scripts and commands can be run within a Jupyter notebook cell.\n",
    "</font>\n",
    "\n",
    "### Examples:"
   ]
  },
  {
   "cell_type": "code",
   "execution_count": 391,
   "metadata": {},
   "outputs": [
    {
     "name": "stdout",
     "output_type": "stream",
     "text": [
      "/usr/bin/python3\n",
      "Hello World from the console!\n"
     ]
    }
   ],
   "source": [
    "%%bash\n",
    "which python3\n",
    "python3 scripts/hello_world.py"
   ]
  },
  {
   "cell_type": "markdown",
   "metadata": {},
   "source": [
    "<font size=\"3\">\n",
    "Or directly run your python script as it would be a bash script or native executable\n",
    "</font>"
   ]
  },
  {
   "cell_type": "code",
   "execution_count": 393,
   "metadata": {},
   "outputs": [
    {
     "name": "stdout",
     "output_type": "stream",
     "text": [
      "insgesamt 16\n",
      "drwxrwxr-x 2 mru mru 4096 Okt  7 06:11 .\n",
      "drwxrwxr-x 6 mru mru 4096 Okt  7 06:13 ..\n",
      "-rwxr--r-- 1 mru mru   58 Okt  7 06:11 hello_world2.py\n",
      "-rw-r--r-- 1 mru mru   39 Okt  7 06:10 hello_world.py\n",
      "Hello World from the console!\n"
     ]
    }
   ],
   "source": [
    "%%bash\n",
    "ls -la scripts/\n",
    "chmod u+x scripts/hello_world2.py\n",
    "./scripts/hello_world2.py"
   ]
  },
  {
   "cell_type": "markdown",
   "metadata": {},
   "source": [
    "<font size=\"3\">\n",
    "We check what <i>hello_world2.py</i> contained by printing its file content with the command <i>cat</i>:\n",
    "</font>"
   ]
  },
  {
   "cell_type": "code",
   "execution_count": 394,
   "metadata": {},
   "outputs": [
    {
     "name": "stdout",
     "output_type": "stream",
     "text": [
      "#!/usr/bin/python3\n",
      "print(\"Hello World from the console!\")\n"
     ]
    }
   ],
   "source": [
    "%%bash\n",
    "cat scripts/hello_world2.py"
   ]
  },
  {
   "cell_type": "markdown",
   "metadata": {},
   "source": [
    "## Handling of command-line arguments \n",
    "<br>\n",
    "<font size=\"3\">\n",
    "Very often, it's the case that you'd like to run your Python script, but with slightly different parameters or paths with files to work on. It would be annoying to make the required changes every time in your Python code.<br><br>\n",
    "Luckily, you can easily handle given command-line arguments in Python and work with them in your script. <b>The most basic option is to use the builtin library <i>sys</i> and the provided list <i>argv</i>. If any command-line argument was given to run your Python script, it will appear in <i>argv</i>.\n",
    "</font>\n",
    "\n",
    "### Examples:"
   ]
  },
  {
   "cell_type": "markdown",
   "metadata": {},
   "source": [
    "<font size=\"3\">Let's check first the content of the little example script:</font>"
   ]
  },
  {
   "cell_type": "code",
   "execution_count": 395,
   "metadata": {},
   "outputs": [
    {
     "name": "stdout",
     "output_type": "stream",
     "text": [
      "#!/usr/bin/python3\n",
      "\n",
      "import sys\n",
      "\n",
      "print(\"I got the following command-line arguments:\"\n",
      "print(sys.argv)\n"
     ]
    }
   ],
   "source": [
    "%%bash\n",
    "cat scripts/cli_args.py"
   ]
  },
  {
   "cell_type": "markdown",
   "metadata": {},
   "source": [
    "<font size=\"3\">Then we run it giving various command-line arguments:</font>"
   ]
  },
  {
   "cell_type": "code",
   "execution_count": 403,
   "metadata": {},
   "outputs": [
    {
     "name": "stdout",
     "output_type": "stream",
     "text": [
      "I got the following command-line arguments:\n",
      "['./scripts/cli_args.py']\n",
      "I got the following command-line arguments:\n",
      "['./scripts/cli_args.py', '--test1']\n",
      "I got the following command-line arguments:\n",
      "['./scripts/cli_args.py', '--test1', '--test2', '--test3']\n"
     ]
    }
   ],
   "source": [
    "%%bash \n",
    "\n",
    "# modifies file permission flags\n",
    "chmod u+x scripts/cli_args.py\n",
    "\n",
    "# run it without any command-line argument\n",
    "./scripts/cli_args.py\n",
    "\n",
    "# run it with one command-line argument\n",
    "./scripts/cli_args.py --test1\n",
    "\n",
    "# run it with multiple command-line arguments\n",
    "./scripts/cli_args.py --test1 --test2 --test3"
   ]
  },
  {
   "cell_type": "markdown",
   "metadata": {},
   "source": [
    "<font size=\"3\">\n",
    "    <b>A more convenient option to handle (define and check) command-line arguments is the module <a href=\"https://docs.python.org/3/library/argparse.html\"><i>argparse</i></a></b>.<br><br> With <i>argparse</i> you can easily define expected mandatory or optional command-line arguments for your scripts with built-in checking of the user input. You can even define nice description and help texts for your parameters to help others to use your scripts later independently.\n",
    "</font>"
   ]
  },
  {
   "cell_type": "code",
   "execution_count": 415,
   "metadata": {},
   "outputs": [
    {
     "name": "stdout",
     "output_type": "stream",
     "text": [
      "#!/usr/bin/python3\n",
      "\n",
      "# import the argparse module\n",
      "import argparse\n",
      "\n",
      "# creating the parser\n",
      "parser = argparse.ArgumentParser(description='Argparse example')\n",
      "\n",
      "# add a command-line argument\n",
      "parser.add_argument('integers', metavar='N', type=int, nargs='+',\n",
      "                   help='integers to sum up')\n",
      "\n",
      "# adds a command-line argument which triggers the summations of the previous integers\n",
      "parser.add_argument('--sum', dest='sum', action='store_const',\n",
      "                   const=sum, default=max,\n",
      "                   help='sums the integers')\n",
      "\n",
      "# invoke parsing (processing) of the arguments\n",
      "args = parser.parse_args()\n",
      "\n",
      "# the processed arguments are stored as attributes in the argparse object !\n",
      "# attributes of object are accessed using the dot-operator.\n",
      "print(\"Content of args.integers:\")\n",
      "print(args.integers)\n",
      "print(\"Result of argument processing:\")\n",
      "print(args.sum(args.integers))\n"
     ]
    }
   ],
   "source": [
    "%%bash\n",
    "\n",
    "# modifies file permission flags\n",
    "chmod u+x scripts/argparse_example.py\n",
    "\n",
    "# list file content\n",
    "cat scripts/argparse_example.py"
   ]
  },
  {
   "cell_type": "markdown",
   "metadata": {},
   "source": [
    "<font size=\"3\">\n",
    "    <b>If we now attempt to run the script without command-line arguments, we get an error and argparse gives us a hint what we have done wrong:</b>\n",
    "            </font>"
   ]
  },
  {
   "cell_type": "code",
   "execution_count": 416,
   "metadata": {},
   "outputs": [
    {
     "name": "stderr",
     "output_type": "stream",
     "text": [
      "usage: argparse_example.py [-h] [--sum] N [N ...]\n",
      "argparse_example.py: error: the following arguments are required: N\n"
     ]
    },
    {
     "ename": "CalledProcessError",
     "evalue": "Command 'b'./scripts/argparse_example.py\\n'' returned non-zero exit status 2.",
     "output_type": "error",
     "traceback": [
      "\u001b[0;31m---------------------------------------------------------------------------\u001b[0m",
      "\u001b[0;31mCalledProcessError\u001b[0m                        Traceback (most recent call last)",
      "\u001b[0;32m<ipython-input-416-78431bbb72eb>\u001b[0m in \u001b[0;36m<module>\u001b[0;34m\u001b[0m\n\u001b[0;32m----> 1\u001b[0;31m \u001b[0mget_ipython\u001b[0m\u001b[0;34m(\u001b[0m\u001b[0;34m)\u001b[0m\u001b[0;34m.\u001b[0m\u001b[0mrun_cell_magic\u001b[0m\u001b[0;34m(\u001b[0m\u001b[0;34m'bash'\u001b[0m\u001b[0;34m,\u001b[0m \u001b[0;34m''\u001b[0m\u001b[0;34m,\u001b[0m \u001b[0;34m'./scripts/argparse_example.py\\n'\u001b[0m\u001b[0;34m)\u001b[0m\u001b[0;34m\u001b[0m\u001b[0;34m\u001b[0m\u001b[0m\n\u001b[0m",
      "\u001b[0;32m~/.local/lib/python3.6/site-packages/IPython/core/interactiveshell.py\u001b[0m in \u001b[0;36mrun_cell_magic\u001b[0;34m(self, magic_name, line, cell)\u001b[0m\n\u001b[1;32m   2357\u001b[0m             \u001b[0;32mwith\u001b[0m \u001b[0mself\u001b[0m\u001b[0;34m.\u001b[0m\u001b[0mbuiltin_trap\u001b[0m\u001b[0;34m:\u001b[0m\u001b[0;34m\u001b[0m\u001b[0;34m\u001b[0m\u001b[0m\n\u001b[1;32m   2358\u001b[0m                 \u001b[0margs\u001b[0m \u001b[0;34m=\u001b[0m \u001b[0;34m(\u001b[0m\u001b[0mmagic_arg_s\u001b[0m\u001b[0;34m,\u001b[0m \u001b[0mcell\u001b[0m\u001b[0;34m)\u001b[0m\u001b[0;34m\u001b[0m\u001b[0;34m\u001b[0m\u001b[0m\n\u001b[0;32m-> 2359\u001b[0;31m                 \u001b[0mresult\u001b[0m \u001b[0;34m=\u001b[0m \u001b[0mfn\u001b[0m\u001b[0;34m(\u001b[0m\u001b[0;34m*\u001b[0m\u001b[0margs\u001b[0m\u001b[0;34m,\u001b[0m \u001b[0;34m**\u001b[0m\u001b[0mkwargs\u001b[0m\u001b[0;34m)\u001b[0m\u001b[0;34m\u001b[0m\u001b[0;34m\u001b[0m\u001b[0m\n\u001b[0m\u001b[1;32m   2360\u001b[0m             \u001b[0;32mreturn\u001b[0m \u001b[0mresult\u001b[0m\u001b[0;34m\u001b[0m\u001b[0;34m\u001b[0m\u001b[0m\n\u001b[1;32m   2361\u001b[0m \u001b[0;34m\u001b[0m\u001b[0m\n",
      "\u001b[0;32m~/.local/lib/python3.6/site-packages/IPython/core/magics/script.py\u001b[0m in \u001b[0;36mnamed_script_magic\u001b[0;34m(line, cell)\u001b[0m\n\u001b[1;32m    140\u001b[0m             \u001b[0;32melse\u001b[0m\u001b[0;34m:\u001b[0m\u001b[0;34m\u001b[0m\u001b[0;34m\u001b[0m\u001b[0m\n\u001b[1;32m    141\u001b[0m                 \u001b[0mline\u001b[0m \u001b[0;34m=\u001b[0m \u001b[0mscript\u001b[0m\u001b[0;34m\u001b[0m\u001b[0;34m\u001b[0m\u001b[0m\n\u001b[0;32m--> 142\u001b[0;31m             \u001b[0;32mreturn\u001b[0m \u001b[0mself\u001b[0m\u001b[0;34m.\u001b[0m\u001b[0mshebang\u001b[0m\u001b[0;34m(\u001b[0m\u001b[0mline\u001b[0m\u001b[0;34m,\u001b[0m \u001b[0mcell\u001b[0m\u001b[0;34m)\u001b[0m\u001b[0;34m\u001b[0m\u001b[0;34m\u001b[0m\u001b[0m\n\u001b[0m\u001b[1;32m    143\u001b[0m \u001b[0;34m\u001b[0m\u001b[0m\n\u001b[1;32m    144\u001b[0m         \u001b[0;31m# write a basic docstring:\u001b[0m\u001b[0;34m\u001b[0m\u001b[0;34m\u001b[0m\u001b[0;34m\u001b[0m\u001b[0m\n",
      "\u001b[0;32m</home/mru/.local/lib/python3.6/site-packages/decorator.py:decorator-gen-110>\u001b[0m in \u001b[0;36mshebang\u001b[0;34m(self, line, cell)\u001b[0m\n",
      "\u001b[0;32m~/.local/lib/python3.6/site-packages/IPython/core/magic.py\u001b[0m in \u001b[0;36m<lambda>\u001b[0;34m(f, *a, **k)\u001b[0m\n\u001b[1;32m    185\u001b[0m     \u001b[0;31m# but it's overkill for just that one bit of state.\u001b[0m\u001b[0;34m\u001b[0m\u001b[0;34m\u001b[0m\u001b[0;34m\u001b[0m\u001b[0m\n\u001b[1;32m    186\u001b[0m     \u001b[0;32mdef\u001b[0m \u001b[0mmagic_deco\u001b[0m\u001b[0;34m(\u001b[0m\u001b[0marg\u001b[0m\u001b[0;34m)\u001b[0m\u001b[0;34m:\u001b[0m\u001b[0;34m\u001b[0m\u001b[0;34m\u001b[0m\u001b[0m\n\u001b[0;32m--> 187\u001b[0;31m         \u001b[0mcall\u001b[0m \u001b[0;34m=\u001b[0m \u001b[0;32mlambda\u001b[0m \u001b[0mf\u001b[0m\u001b[0;34m,\u001b[0m \u001b[0;34m*\u001b[0m\u001b[0ma\u001b[0m\u001b[0;34m,\u001b[0m \u001b[0;34m**\u001b[0m\u001b[0mk\u001b[0m\u001b[0;34m:\u001b[0m \u001b[0mf\u001b[0m\u001b[0;34m(\u001b[0m\u001b[0;34m*\u001b[0m\u001b[0ma\u001b[0m\u001b[0;34m,\u001b[0m \u001b[0;34m**\u001b[0m\u001b[0mk\u001b[0m\u001b[0;34m)\u001b[0m\u001b[0;34m\u001b[0m\u001b[0;34m\u001b[0m\u001b[0m\n\u001b[0m\u001b[1;32m    188\u001b[0m \u001b[0;34m\u001b[0m\u001b[0m\n\u001b[1;32m    189\u001b[0m         \u001b[0;32mif\u001b[0m \u001b[0mcallable\u001b[0m\u001b[0;34m(\u001b[0m\u001b[0marg\u001b[0m\u001b[0;34m)\u001b[0m\u001b[0;34m:\u001b[0m\u001b[0;34m\u001b[0m\u001b[0;34m\u001b[0m\u001b[0m\n",
      "\u001b[0;32m~/.local/lib/python3.6/site-packages/IPython/core/magics/script.py\u001b[0m in \u001b[0;36mshebang\u001b[0;34m(self, line, cell)\u001b[0m\n\u001b[1;32m    243\u001b[0m             \u001b[0msys\u001b[0m\u001b[0;34m.\u001b[0m\u001b[0mstderr\u001b[0m\u001b[0;34m.\u001b[0m\u001b[0mflush\u001b[0m\u001b[0;34m(\u001b[0m\u001b[0;34m)\u001b[0m\u001b[0;34m\u001b[0m\u001b[0;34m\u001b[0m\u001b[0m\n\u001b[1;32m    244\u001b[0m         \u001b[0;32mif\u001b[0m \u001b[0margs\u001b[0m\u001b[0;34m.\u001b[0m\u001b[0mraise_error\u001b[0m \u001b[0;32mand\u001b[0m \u001b[0mp\u001b[0m\u001b[0;34m.\u001b[0m\u001b[0mreturncode\u001b[0m\u001b[0;34m!=\u001b[0m\u001b[0;36m0\u001b[0m\u001b[0;34m:\u001b[0m\u001b[0;34m\u001b[0m\u001b[0;34m\u001b[0m\u001b[0m\n\u001b[0;32m--> 245\u001b[0;31m             \u001b[0;32mraise\u001b[0m \u001b[0mCalledProcessError\u001b[0m\u001b[0;34m(\u001b[0m\u001b[0mp\u001b[0m\u001b[0;34m.\u001b[0m\u001b[0mreturncode\u001b[0m\u001b[0;34m,\u001b[0m \u001b[0mcell\u001b[0m\u001b[0;34m,\u001b[0m \u001b[0moutput\u001b[0m\u001b[0;34m=\u001b[0m\u001b[0mout\u001b[0m\u001b[0;34m,\u001b[0m \u001b[0mstderr\u001b[0m\u001b[0;34m=\u001b[0m\u001b[0merr\u001b[0m\u001b[0;34m)\u001b[0m\u001b[0;34m\u001b[0m\u001b[0;34m\u001b[0m\u001b[0m\n\u001b[0m\u001b[1;32m    246\u001b[0m \u001b[0;34m\u001b[0m\u001b[0m\n\u001b[1;32m    247\u001b[0m     \u001b[0;32mdef\u001b[0m \u001b[0m_run_script\u001b[0m\u001b[0;34m(\u001b[0m\u001b[0mself\u001b[0m\u001b[0;34m,\u001b[0m \u001b[0mp\u001b[0m\u001b[0;34m,\u001b[0m \u001b[0mcell\u001b[0m\u001b[0;34m,\u001b[0m \u001b[0mto_close\u001b[0m\u001b[0;34m)\u001b[0m\u001b[0;34m:\u001b[0m\u001b[0;34m\u001b[0m\u001b[0;34m\u001b[0m\u001b[0m\n",
      "\u001b[0;31mCalledProcessError\u001b[0m: Command 'b'./scripts/argparse_example.py\\n'' returned non-zero exit status 2."
     ]
    }
   ],
   "source": [
    "%%bash\n",
    "./scripts/argparse_example.py"
   ]
  },
  {
   "cell_type": "markdown",
   "metadata": {},
   "source": [
    "<font size=\"3\">\n",
    "    <b>Argparse provides a nice help function when the argument <i>-h</i> is used:</b\n",
    "</font>"
   ]
  },
  {
   "cell_type": "code",
   "execution_count": 417,
   "metadata": {},
   "outputs": [
    {
     "name": "stdout",
     "output_type": "stream",
     "text": [
      "usage: argparse_example.py [-h] [--sum] N [N ...]\n",
      "\n",
      "Argparse example\n",
      "\n",
      "positional arguments:\n",
      "  N           integers to sum up\n",
      "\n",
      "optional arguments:\n",
      "  -h, --help  show this help message and exit\n",
      "  --sum       sums the integers\n"
     ]
    }
   ],
   "source": [
    "%%bash\n",
    "./scripts/argparse_example.py -h"
   ]
  },
  {
   "cell_type": "code",
   "execution_count": 418,
   "metadata": {},
   "outputs": [
    {
     "name": "stdout",
     "output_type": "stream",
     "text": [
      "Content of args.integers:\n",
      "[1, 2, 3]\n",
      "Result of argument processing:\n",
      "6\n"
     ]
    }
   ],
   "source": [
    "%%bash\n",
    "./scripts/argparse_example.py 1 2 3 --sum"
   ]
  },
  {
   "cell_type": "markdown",
   "metadata": {},
   "source": [
    "<font size=\"3\"><div class=\"alert alert-warning\"><b>Exercise:</b> Write your own script evaluating command-line arguments and run it on the command-line yourself. Either simply use the builtin <i>os.argv</i> variable or use the <i>argparse</i> module if you feel already comfortable enough.<br><br>\n",
    "<b>Simply create a new Python script locally and upload it here.</b>\n",
    "</div>\n",
    "    \n",
    "<b>Try to run it yourself here:</b></font>"
   ]
  },
  {
   "cell_type": "code",
   "execution_count": null,
   "metadata": {},
   "outputs": [],
   "source": [
    "%%bash\n",
    "# replace \"your_script\" with your filename, may also change the file path\n",
    "chmod u+x scripts/your_script.py\n",
    "./scripts/your_script.py"
   ]
  },
  {
   "cell_type": "markdown",
   "metadata": {},
   "source": [
    "## Reading Data from Files\n",
    "<br>\n",
    "<font size=\"3\">\n",
    "Of course you'd like to work with your data without the need to manually define a list or an array for it. In most cases, you have either a <b><i>CSV file</i></b> (CSV is the abbreviation for <a href=\"https://en.wikipedia.org/wiki/Comma-separated_values\"><i>comma-separated values</i></a>) or sometimes even still an <b><i>Excel sheet</b></i>, because it's more convenient in some cases.<br><br>\n",
    "A CSV file is nothing else than a representation of table, where each line in the file represents a table row and the values for each column are separated by a special character (mostly a comma). <b>The first line usually contains the column names for the table.</b><br><br>\n",
    "    <b>Let's have a look at such a CSV file containing the <a href=\"https://en.wikipedia.org/wiki/Iris_flower_data_set\">Iris dataset</a> (in this case a very popular standard data set in data science):</b>\n",
    "</font>"
   ]
  },
  {
   "cell_type": "code",
   "execution_count": 438,
   "metadata": {},
   "outputs": [
    {
     "name": "stdout",
     "output_type": "stream",
     "text": [
      "sepal_length,sepal_width,petal_length,petal_width,species\n",
      "5.1,3.5,1.4,0.2,setosa\n",
      "4.9,3.0,1.4,0.2,setosa\n",
      "4.7,3.2,1.3,0.2,setosa\n",
      "4.6,3.1,1.5,0.2,setosa\n",
      "5.0,3.6,1.4,0.2,setosa\n",
      "5.4,3.9,1.7,0.4,setosa\n",
      "4.6,3.4,1.4,0.3,setosa\n",
      "5.0,3.4,1.5,0.2,setosa\n",
      "4.4,2.9,1.4,0.2,setosa\n",
      "4.9,3.1,1.5,0.1,setosa\n",
      "5.4,3.7,1.5,0.2,setosa\n",
      "4.8,3.4,1.6,0.2,setosa\n",
      "4.8,3.0,1.4,0.1,setosa\n",
      "4.3,3.0,1.1,0.1,setosa\n",
      "5.8,4.0,1.2,0.2,setosa\n",
      "5.7,4.4,1.5,0.4,setosa\n",
      "5.4,3.9,1.3,0.4,setosa\n",
      "5.1,3.5,1.4,0.3,setosa\n",
      "5.7,3.8,1.7,0.3,setosa\n",
      "5.1,3.8,1.5,0.3,setosa\n",
      "5.4,3.4,1.7,0.2,setosa\n",
      "5.1,3.7,1.5,0.4,setosa\n",
      "4.6,3.6,1.0,0.2,setosa\n",
      "5.1,3.3,1.7,0.5,setosa\n"
     ]
    }
   ],
   "source": [
    "%%bash\n",
    "head -n 25 data/iris.csv"
   ]
  },
  {
   "cell_type": "markdown",
   "metadata": {},
   "source": [
    "<font size=\"3\">\n",
    "Only the first 25 lines are shown here.<br><br>\n",
    "Of course, we could now manually readin the file line by line, but then we would need to process the strings and convert them to a table-like data structure. <b>Luckily, there are already functions in the 3rd party libraries <a href=\"https://numpy.org/\"><i>numpy</i></a> and <a href=\"https://pandas.pydata.org/\"><i>pandas</i></a> that solve this problem.</b><br><br>\n",
    "    <b>Recently, a <a href=\"https://www.nature.com/articles/s41586-020-2649-2\">paper</a> about the numpy Python package was published in <i>nature</i>.<b><br><br>\n",
    "        <div align=\"center\">\n",
    "<img src=\"img/numpy_nature.webp\" width=\"100%\">\n",
    "        </div>\n",
    "<font size=\"2\"><i>Source: <a href=\"https://www.nature.com/articles/s41586-020-2649-2\">https://www.nature.com/articles/s41586-020-2649-2</a></i></font>\n",
    "<br><br>\n",
    "<b>Numpy</b> is a powerful 3rd party package offering the new data type of the <b><i>numpy array</i></b> (numpy.ndarray) with a more powerful and faster implementation in C++ in the background. In contrast to lists in Python, <b>the size of a numpy array cannot be changed and the best practice is to allocate space in advance by initializing an empty array (e.g. filled with zeros)</b>. Also, the data type of its elements shouldn't differ and the number of elements in each row or column has to be the same, since <b>the numpy array represents a N x M matrix.</b><br><br>\n",
    "<b>To sum it up, a numpy array behaves like a \"classic\" array in other high-level programming languages due to it's precompiled C++ implementation in the background.</b><br>\n",
    "</font>\n",
    "\n",
    "### Examples:"
   ]
  },
  {
   "cell_type": "code",
   "execution_count": 475,
   "metadata": {},
   "outputs": [
    {
     "name": "stdout",
     "output_type": "stream",
     "text": [
      "type(arr1) = <class 'numpy.ndarray'>\n",
      "arr1 = [1.    2.35  3.141]\n",
      "type(arr2) = <class 'numpy.ndarray'>\n",
      "arr2 = \n",
      "[[0. 0. 0.]\n",
      " [0. 0. 0.]\n",
      " [0. 0. 0.]]\n",
      "type(arr2) = <class 'numpy.ndarray'>\n",
      "arr2 = \n",
      "[[1. 0. 0.]\n",
      " [0. 2. 0.]\n",
      " [0. 0. 3.]]\n",
      "arr2.size = 9\n",
      "arr2.shape = (3, 3)\n",
      "type(iris_data) = <class 'numpy.ndarray'>\n",
      "iris_data[:20] = [(5.1, 3.5, 1.4, 0.2, nan) (4.9, 3. , 1.4, 0.2, nan)\n",
      " (4.7, 3.2, 1.3, 0.2, nan) (4.6, 3.1, 1.5, 0.2, nan)\n",
      " (5. , 3.6, 1.4, 0.2, nan) (5.4, 3.9, 1.7, 0.4, nan)\n",
      " (4.6, 3.4, 1.4, 0.3, nan) (5. , 3.4, 1.5, 0.2, nan)\n",
      " (4.4, 2.9, 1.4, 0.2, nan) (4.9, 3.1, 1.5, 0.1, nan)\n",
      " (5.4, 3.7, 1.5, 0.2, nan) (4.8, 3.4, 1.6, 0.2, nan)\n",
      " (4.8, 3. , 1.4, 0.1, nan) (4.3, 3. , 1.1, 0.1, nan)\n",
      " (5.8, 4. , 1.2, 0.2, nan) (5.7, 4.4, 1.5, 0.4, nan)\n",
      " (5.4, 3.9, 1.3, 0.4, nan) (5.1, 3.5, 1.4, 0.3, nan)\n",
      " (5.7, 3.8, 1.7, 0.3, nan) (5.1, 3.8, 1.5, 0.3, nan)]\n",
      "iris_data.dtype = \n",
      "[('sepal_length', '<f8'), ('sepal_width', '<f8'), ('petal_length', '<f8'), ('petal_width', '<f8'), ('species', '<f8')]\n"
     ]
    },
    {
     "data": {
      "text/plain": [
       "<function print>"
      ]
     },
     "execution_count": 475,
     "metadata": {},
     "output_type": "execute_result"
    }
   ],
   "source": [
    "# import numpy with alias np\n",
    "import numpy as np\n",
    "\n",
    "# create a numpy array from a list\n",
    "arr1 = np.array([1.0,2.35,3.141])\n",
    "print(\"type(arr1) = \"+str(type(arr1)))\n",
    "print(\"arr1 = \"+str(arr1))\n",
    "\n",
    "# create an 2D array / a 3x3 matrix filled with zeros\n",
    "arr2 = np.zeros((3,3))\n",
    "print(\"type(arr2) = \"+str(type(arr2)))\n",
    "print(\"arr2 = \\n\"+str(arr2))\n",
    "\n",
    "# index an array element\n",
    "arr2[0,0] = 1\n",
    "arr2[1,1] = 2\n",
    "arr2[2,2] = 3\n",
    "print(\"type(arr2) = \"+str(type(arr2)))\n",
    "print(\"arr2 = \\n\"+str(arr2))\n",
    "\n",
    "# using the attribute \"size\" of the numpy array is more reliable than using the len() function\n",
    "# the attribute \"shape\" contains a tuple with the array or matrix dimensions\n",
    "print(\"arr2.size = \"+str(arr2.size))\n",
    "print(\"arr2.shape = \"+str(arr2.shape))\n",
    "\n",
    "# load data file and convert it to (named) numpy array\n",
    "iris_data = np.genfromtxt(\"data/iris.csv\", names=True, delimiter=\",\")\n",
    "# output just the first 20 rows\n",
    "print(\"type(iris_data) = \"+str(type(iris_data)))\n",
    "print(\"iris_data[:20] = \"+str(iris_data[:20]))\n",
    "#print the guess data types for the columns of the table\n",
    "print(\"iris_data.dtype = \\n\"+str(iris_data.dtype))\n",
    "print"
   ]
  },
  {
   "cell_type": "markdown",
   "metadata": {},
   "source": [
    "<font size=\"3\"><b>Obviously, the numpy function couldn't properly guess the data type of the last column (just returning a <i>NaN</i> (not an number). But we can correct that:</b></font>"
   ]
  },
  {
   "cell_type": "code",
   "execution_count": 477,
   "metadata": {},
   "outputs": [
    {
     "name": "stdout",
     "output_type": "stream",
     "text": [
      "iris_data[:20] = [(5.1, 3.5, 1.4, 0.2, b'setosa') (4.9, 3. , 1.4, 0.2, b'setosa')\n",
      " (4.7, 3.2, 1.3, 0.2, b'setosa') (4.6, 3.1, 1.5, 0.2, b'setosa')\n",
      " (5. , 3.6, 1.4, 0.2, b'setosa') (5.4, 3.9, 1.7, 0.4, b'setosa')\n",
      " (4.6, 3.4, 1.4, 0.3, b'setosa') (5. , 3.4, 1.5, 0.2, b'setosa')\n",
      " (4.4, 2.9, 1.4, 0.2, b'setosa') (4.9, 3.1, 1.5, 0.1, b'setosa')\n",
      " (5.4, 3.7, 1.5, 0.2, b'setosa') (4.8, 3.4, 1.6, 0.2, b'setosa')\n",
      " (4.8, 3. , 1.4, 0.1, b'setosa') (4.3, 3. , 1.1, 0.1, b'setosa')\n",
      " (5.8, 4. , 1.2, 0.2, b'setosa') (5.7, 4.4, 1.5, 0.4, b'setosa')\n",
      " (5.4, 3.9, 1.3, 0.4, b'setosa') (5.1, 3.5, 1.4, 0.3, b'setosa')\n",
      " (5.7, 3.8, 1.7, 0.3, b'setosa') (5.1, 3.8, 1.5, 0.3, b'setosa')]\n",
      "iris_data.dtype = \n",
      "[('sepal_length', '<f8'), ('sepal_width', '<f8'), ('petal_length', '<f8'), ('petal_width', '<f8'), ('species', 'S8')]\n",
      "iris_data['sepal_length'] = \n",
      "[5.1 4.9 4.7 4.6 5.  5.4 4.6 5.  4.4 4.9 5.4 4.8 4.8 4.3 5.8 5.7 5.4 5.1\n",
      " 5.7 5.1]\n",
      "Mean of column sepal_length:5.843333333333334\n",
      "Std of column sepal_length:0.8253012917851409\n",
      "Mean of column sepal_length:5.843\n"
     ]
    }
   ],
   "source": [
    "# load data file again with defined data types and column names and convert it to (named) numpy array\n",
    "iris_data = np.genfromtxt(\"data/iris.csv\", names=True, dtype=[('sepal_length', '<f8'), ('sepal_width', '<f8'),\\\n",
    "                                                              ('petal_length', '<f8'), ('petal_width', '<f8'),\\\n",
    "                                                              ('species', '<S8')], delimiter=\",\")\n",
    "print(\"iris_data[:20] = \"+str(iris_data[:20]))\n",
    "#print the guess data types for the columns of the table\n",
    "print(\"iris_data.dtype = \\n\"+str(iris_data.dtype))\n",
    "\n",
    "# access column data with column name\n",
    "print(\"iris_data['sepal_length'] = \\n\"+str(iris_data['sepal_length'][:20]))\n",
    "\n",
    "#work with the data\n",
    "#compute mean of column\n",
    "mean = np.mean(iris_data['sepal_length'])\n",
    "#compute standard deviation of column\n",
    "std = np.std(iris_data['sepal_length'], axis=0)\n",
    "print(\"Mean of column sepal_length:\" + str(mean))\n",
    "print(\"Std of column sepal_length:\" + str(std))\n",
    "\n",
    "# round to n significant digits\n",
    "print(\"Mean of column sepal_length:\" + str(np.round(mean,3)))\n",
    "\n",
    "# or just change the number output format"
   ]
  },
  {
   "cell_type": "markdown",
   "metadata": {},
   "source": [
    "<font size=\"3\"><div class=\"alert alert-warning\"><b>Exercise:</b> Write a function which loads a file (<b>in this case applied to <i>data/glass.csv<i></b>), print the shape of the resulting array, print the first N rows (adjustable via a function argument), compute and return the means and standard deviations for the data columns and print the results (adjustable via a parameter). The result of <b>numpy.genfromtxt is different in this case since glass.csv does not contain mixed data types. You don't need to specify the column data types in this case.</b><br><br>\n",
    "    <b>Hint:</b> <b>Use the numpy functions <a href=\"https://numpy.org/doc/stable/reference/generated/numpy.mean.html\">np.mean</a> and <a href=\"https://numpy.org/doc/stable/reference/generated/numpy.std.html\">np.std</a></b> to compute the mean and the standard deviaton. The parameter axis allows to specifiy for which dimension/axis you'd like to perform the computation. So you don't need to use a loop.<br><br>\n",
    "If you use the keyword argument <b>names = True</b> in numpy.genfromtxt, a named array will be returned where column data can be addressed via the column name defined in the first row of the file.\n",
    "</div>\n",
    "    \n",
    "<b>Try it yourself here:</b></font>"
   ]
  },
  {
   "cell_type": "code",
   "execution_count": null,
   "metadata": {},
   "outputs": [],
   "source": []
  },
  {
   "cell_type": "markdown",
   "metadata": {},
   "source": [
    "### Example Solution:"
   ]
  },
  {
   "cell_type": "code",
   "execution_count": null,
   "metadata": {},
   "outputs": [],
   "source": [
    "import numpy as np  \n",
    "def process_file(file, n_rows = 10, print_result = True): \n",
    "    glass_data = np.genfromtxt(file, delimiter=\",\", skip_header=1) \n",
    "    print(glass_data[:n_rows,:]) \n",
    "    means = np.mean(glass_data, axis = 0) \n",
    "    stds = np.std(glass_data, axis = 0) \n",
    "    if print_result: \n",
    "        print(\"means:\"+str(means)) \n",
    "        print(\"stds:\"+str(stds)) \n",
    "    return means, stds\n",
    "means, stds=process_file(\"data/glass.csv\", n_rows = 10, print_result = True)"
   ]
  },
  {
   "cell_type": "markdown",
   "metadata": {},
   "source": [
    "## Directory Batch Processing\n",
    "<br>\n",
    "<font size=\"3\">\n",
    "Very often, you not only need to load a single file, but a whole set of files located in one or more directories. Luckily, Python also offers builtin solutions for this problem. A directory can be traversed (also recursively) to yield a list of files to be processed in your Python script.<br><br>\n",
    "    <b>The most simple solution is offered by the builtin library <i>os</i> with <i>os.walk</i>.</b>.\n",
    "</font>\n",
    "\n",
    "### Examples:"
   ]
  },
  {
   "cell_type": "code",
   "execution_count": 1,
   "metadata": {},
   "outputs": [
    {
     "name": "stdout",
     "output_type": "stream",
     "text": [
      "data/batch/0.txt\n",
      "data/batch/c.txt\n",
      "data/batch/a.txt\n",
      "data/batch/batch.txt\n",
      "data/batch/1.txt\n",
      "['data/batch/0.txt', 'data/batch/c.txt', 'data/batch/a.txt', 'data/batch/batch.txt', 'data/batch/1.txt']\n"
     ]
    }
   ],
   "source": [
    "# imports the required module\n",
    "import os\n",
    "\n",
    "def walk_through_files(path, file_extension='.txt'):\n",
    "   for (dirpath, dirnames, filenames) in os.walk(path):\n",
    "      for filename in filenames:\n",
    "         if filename.endswith(file_extension): \n",
    "            # yield keyword instead of return defines a generator instead of a regular function\n",
    "            yield os.path.join(dirpath, filename)\n",
    "\n",
    "# that's why we iterate over walk_through_files instead of calling it\n",
    "for fname in walk_through_files(\"data/batch/\"):\n",
    "    print(fname)\n",
    "# force the generator to return a list with the results\n",
    "print(list(walk_through_files(\"data/batch/\")))"
   ]
  },
  {
   "cell_type": "markdown",
   "metadata": {},
   "source": [
    "<font size=\"3\"><div class=\"alert alert-warning\"><b>Exercise:</b> Write a function to traverse the path data/batch/, read the found files and concatenate their content to one string separated by spaces.\n",
    "<br><br>\n",
    "<b>Hint:</b> Use np.loadtxt to load the files\n",
    "</div>\n",
    "    \n",
    "<b>Try it yourself here:</b></font>"
   ]
  },
  {
   "cell_type": "code",
   "execution_count": null,
   "metadata": {},
   "outputs": [],
   "source": []
  },
  {
   "cell_type": "markdown",
   "metadata": {},
   "source": [
    "### Example Solution:"
   ]
  },
  {
   "cell_type": "code",
   "execution_count": 2,
   "metadata": {},
   "outputs": [
    {
     "name": "stdout",
     "output_type": "stream",
     "text": [
      "Result:This\n",
      " processing test\n",
      " a\n",
      " batch\n",
      " is\n",
      "\n"
     ]
    }
   ],
   "source": [
    "# iterate over files\n",
    "buffer = []\n",
    "for fname in walk_through_files(\"data/batch/\"):\n",
    "    # open file\n",
    "    f = open(fname, \"r\")\n",
    "    # read file content\n",
    "    buffer.extend(f.readlines())\n",
    "print(\"Result:\"+\" \".join(buffer))"
   ]
  },
  {
   "cell_type": "markdown",
   "metadata": {},
   "source": [
    "## Visualizing Data with Matplotlib\n",
    "<br>\n",
    "<font size=\"3\">\n",
    "    <b>One picture can say more than 1000 words:</b> Visualizing your data is probably the most important aspect in your daily work routine. <a href=\"https://matplotlib.org/\">Matplotlib</a> is the most common Python package for data visualization offering a multitude of different plot types and options to tailor the plots according to your needs. Even Latex can be used to obtain nice looking plot titles, axes labels and annotations.<br><br>\n",
    "    <a href=\"https://matplotlib.org/gallery/index.html\">See a plot gallery here</a> of all the possibilities and functions matplotlib offers out-of-the-box.\n",
    "</font>\n",
    "\n",
    "### Examples:"
   ]
  },
  {
   "cell_type": "code",
   "execution_count": 507,
   "metadata": {},
   "outputs": [
    {
     "data": {
      "image/png": "[encoded data removed]",
      "text/plain": [
       "<Figure size 600x450 with 1 Axes>"
      ]
     },
     "metadata": {},
     "output_type": "display_data"
    }
   ],
   "source": [
    "# a very simple example to begin with\n",
    "import numpy as np\n",
    "from matplotlib import pyplot as plt\n",
    "\n",
    "# generate the data to plot\n",
    "omega = 1\n",
    "# yields a numpy array of N equidistant points on the given interval\n",
    "x = np.linspace(-2*np.pi, 2*np.pi, 100)\n",
    "y = np.sin(x)\n",
    "\n",
    "# here you can set the size and resolution of the plot\n",
    "#resolution in dpi = dots per inch\n",
    "# for the screen 75 to 120 dpi isfine\n",
    "# for a publication you'd need to use a higher resolution of 150 or 300 dpi\n",
    "dpi = 150\n",
    "# height in inch\n",
    "height = 3 \n",
    "# width in inch\n",
    "width = 4\n",
    "\n",
    "# initalize the new figure\n",
    "fig = plt.figure(figsize=(width, height), dpi=dpi)\n",
    "\n",
    "# Here you could specify multiple plots aside or in a matrix configurationn\n",
    "# we just want one plot in the figure, \n",
    "# thats why we set 111 = number of rows, number of columns, total num of plots\n",
    "ax = fig.add_subplot(111)\n",
    "\n",
    "# create the plot itself (a line plot connecting the points)\n",
    "# plot the sine\n",
    "ax.plot(x, y, color = \"r\", linestyle = \"--\", linewidth = 2, label = \"sine\")\n",
    "# plot a constant line at zero\n",
    "ax.plot(x, np.zeros(x.shape), color = \"black\", linestyle = \"-\", linewidth = 2, label = \"line\")\n",
    "# plot a graph\n",
    "ax.plot(x, x, color = \"blue\", linestyle = \":\", linewidth = 1, label = \"graph\")\n",
    "\n",
    "# use a grid in the background\n",
    "ax.grid(which=\"both\", color=\"gray\", linestyle=\"-.\", linewidth=0.5)\n",
    "\n",
    "# set the plot title using Latex\n",
    "# the semicolon at the end of the line is to suppress the output of the function\n",
    "# (one of the rare cases where you'd end a line of Python code with a semicolon)\n",
    "ax.set_title(\"A first plot of \" + r'$y = \\sin\\left(2 \\pi \\omega t\\right)$');\n",
    "\n",
    "# set the axes labels\n",
    "ax.set_xlabel(\"x\");\n",
    "ax.set_ylabel(r'$\\sum_{i=1}^{N} \\frac{1}{i} \\psi$');\n",
    "\n",
    "# use the plot legend\n",
    "# only works if keyword argument 'label' was given to the method plot\n",
    "ax.legend()\n",
    "\n",
    "#save the plot in a file\n",
    "fig.savefig(\"plot.png\")"
   ]
  },
  {
   "cell_type": "code",
   "execution_count": 519,
   "metadata": {},
   "outputs": [
    {
     "data": {
      "image/png": "[encoded data removed]",
      "text/plain": [
       "<Figure size 600x450 with 1 Axes>"
      ]
     },
     "metadata": {},
     "output_type": "display_data"
    }
   ],
   "source": [
    "# a very simple example to begin with\n",
    "import numpy as np\n",
    "from matplotlib import pyplot as plt\n",
    "\n",
    "# generate data to work with\n",
    "num_values = 1E3\n",
    "x = np.random.normal(0,1,int(num_values))\n",
    "\n",
    "# here you can set the size and resolution of the plot\n",
    "#resolution in dpi = dots per inch\n",
    "# for the screen 75 to 120 dpi isfine\n",
    "# for a publication you'd need to use a higher resolution of 150 or 300 dpi\n",
    "dpi = 150\n",
    "# height in inch\n",
    "height = 3 \n",
    "# width in inch\n",
    "width = 4\n",
    "\n",
    "# initalize the new figure\n",
    "fig = plt.figure(figsize=(width, height), dpi=dpi)\n",
    "\n",
    "# Here you could specify multiple plots aside or in a matrix configurationn\n",
    "# we just want one plot in the figure, \n",
    "# thats why we set 111 = number of rows, number of columns, total num of plots\n",
    "ax = fig.add_subplot(111)\n",
    "\n",
    "# plots a histogram\n",
    "h=ax.hist(x, bins=100, color=\"black\")\n",
    "ax.set_ylabel(\"count\");\n",
    "ax.set_xlabel(\"x\");\n",
    "ax.set_title(\"A simple histogram\")\n",
    "ax.grid(which=\"both\",color=\"gray\",linewidth=0.5,linestyle=\"--\")"
   ]
  },
  {
   "cell_type": "markdown",
   "metadata": {},
   "source": [
    "<font size=\"3\">\n",
    "<b>Have also a look at the predefined <a href=\"https://matplotlib.org/3.1.0/gallery/color/named_colors.html\">color</a> and <a href=\"https://matplotlib.org/3.3.1/api/_as_gen/matplotlib.lines.Line2D.html#matplotlib.lines.Line2D.lineStyles\">linestyle</a> or <a href=\"https://matplotlib.org/3.3.1/api/_as_gen/matplotlib.lines.Line2D.html#matplotlib.lines.Line2D.lineStyles\">here</a> keywords on the matplotlib website.</b>\n",
    "</font>"
   ]
  },
  {
   "cell_type": "markdown",
   "metadata": {},
   "source": [
    "# Thanks for your attention! Any questions?"
   ]
  },
  {
   "cell_type": "markdown",
   "metadata": {},
   "source": [
    "<div align=\"center\">\n",
    "<img src=\"img/meme_python_spock.jpg\" width=\"50%\">\n",
    "</div>\n",
    "\n",
    "# Happy coding!\n",
    "# Remember: Google (or betterStackoverflow) is your friend."
   ]
  }
 ],
 "metadata": {
  "celltoolbar": "Raw Cell Format",
  "kernelspec": {
   "display_name": "Python 3",
   "language": "python",
   "name": "python3"
  },
  "language_info": {
   "codemirror_mode": {
    "name": "ipython",
    "version": 3
   },
   "file_extension": ".py",
   "mimetype": "text/x-python",
   "name": "python",
   "nbconvert_exporter": "python",
   "pygments_lexer": "ipython3",
   "version": "3.8.3"
  }
 },
 "nbformat": 4,
 "nbformat_minor": 2
}
